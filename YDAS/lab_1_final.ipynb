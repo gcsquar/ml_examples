{
 "cells": [
  {
   "cell_type": "markdown",
   "metadata": {},
   "source": [
    "## Лабораторная работа 1. Введение в машинное обучение.\n",
    "\n",
    "![](https://newapplift-production.s3.amazonaws.com/comfy/cms/files/files/000/001/201/original/machine-learning-robots-dilbert.gif)\n",
    "\n",
    "Результат лабораторной работы − отчет. Мы предпочитаем принимать отчеты в формате ноутбуков Jupyter (ipynb-файл). Постарайтесь сделать ваш отчет интересным рассказом, последовательно отвечающим на вопросы из заданий. Помимо ответов на вопросы, в отчете так же должен быть код, однако чем меньше кода, тем лучше всем: нам − меньше проверять, вам —  проще найти ошибку или дополнить эксперимент. При проверке оценивается четкость ответов на вопросы, аккуратность отчета и кода.\n",
    "\n",
    "\n",
    "### Оценивание и штрафы\n",
    "\n",
    "* Каждая из задач имеет определенную «стоимость» (указана в скобках около задачи)\n",
    "* Максимально допустимая оценка за работу — 15 баллов\n",
    "* Сдавать задание после указанного срока сдачи нельзя\n",
    "* «Похожие» решения считаются плагиатом и все задействованные студенты (в том числе те, у кого списали) не могут получить за него больше 0 баллов и понижают карму (подробнее о плагиате см. на странице курса)\n",
    "* Если вы нашли решение какого-то из заданий в открытом источнике, необходимо прислать ссылку на этот источник (скорее всего вы будете не единственным, кто это нашел, поэтому чтобы исключить подозрение в плагиате, необходима ссылка на источник)\n",
    "* Не оцениваются задания с удалёнными формулировкам\n",
    "* Не оценивается лабораторная работа целиком, если она была выложена в открытый источник"
   ]
  },
  {
   "cell_type": "markdown",
   "metadata": {},
   "source": [
    "### Метрика качества\n",
    "\n",
    "Обучение и оценка качества модели производится на независимых множествах примеров. Как правило, имеющующиеся примеры разбивают на два подмножества: обучающее (train) и тестовое (test). Выбор пропорции разбиения — компромисс. Действительно, большой размер обучения ведет к более качественным алгоритмам, но бОльшему шуму при оценке модели на тесте. И наоборот, большой размер тестовой выборки ведет к менее шумной оценке качества, однако обученные модели получаются менее точными.\n",
    "\n",
    "Многие модели классификации предсказывают оценку принадлежности положительному классу $\\tilde{y}(x) \\in R$ (например, вероятность принадлежности классу 1). После этого принимают решение о классе объекта путем сравнения оценки с некоторым порогом $\\theta$:\n",
    "\n",
    "$$y(x) = \n",
    "\\begin{cases}\n",
    "+1, &\\text{если} \\; \\tilde{y}(x) \\geq \\theta \\\\\n",
    "-1, &\\text{если} \\; \\tilde{y}(x) < \\theta\n",
    "\\end{cases}\n",
    "$$\n",
    "\n",
    "В этом случае можно рассматривать метрики, которые умеют работать с исходным ответом классификатора. В задании мы будем работать с метрикой AUC-ROC, которую в данном случае можно считать как долю неправильно упорядоченных пар объектов, отсортированных по возрастанию предсказанной оценки принадлежности классу 1 (более подробно можно узнать на следующих лекциях или, например, [здесь](https://github.com/esokolov/ml-course-msu/blob/master/ML15/lecture-notes/Sem05_metrics.pdf)). Детального понимания принципов работы метрики AUC-ROC для выполнения этой лабораторной не требуется."
   ]
  },
  {
   "cell_type": "markdown",
   "metadata": {},
   "source": [
    "### Подбор гиперпараметров модели\n",
    "\n",
    "В задачах машинного обучения следует различать параметры модели и гиперпараметры (структурные параметры). Обычно параметры модели настраиваются в ходе обучения (например, веса в линейной модели), в то время как гиперпараметры задаются заранее (например, значение силы регуляризации в линейной модели). Каждая модель, как правило, имеет множество гиперпараметров и нет универсальных наборов гиперпараметров, оптимально работающих во всех задачах, поэтому для каждой задачи нужно подбирать свой набор.\n",
    "\n",
    "Для оптимизации гиперпараметров модели часто используют _перебор по сетке (grid search)_: для каждого гиперпараметра выбирается несколько значений, далее перебираются все комбинации значений и выбирается комбинация, на которой модель показывает лучшее качество (с точки зрения оптимизируемой метрики). Однако, в этом случае нужно грамотно оценивать построенную модель, а именно делать разбиение на обучающую и тестовую выборку.\n",
    "\n",
    "В этом случае сравнение большого числа моделей при переборе гиперпараметров приводит к ситуации, когда лучшая на тестовой подвыборке модель не сохраняет свои качества на новых данных. Можно сказать, что происходит _переобучение_ на тестовую выборку.\n",
    "\n",
    "Для устранения описанной выше проблемы, **можно разбить данные на 3 непересекающихся подвыборки: обучение, валидация и тест**. Валидационную подвыборку используют для сравнения моделей, а тестовую — для окончательной оценки качества и сравнения семейств моделей с подобранными гиперпараметрами.\n",
    "\n",
    "**Другой способ сравнения моделей — [кросс-валидация](http://bit.ly/1CHXsNH)**. \n",
    "\n",
    "Существуют различные **схемы кросс-валидации**:\n",
    "  - Leave-One-Out\n",
    "  - K-Fold\n",
    "  - Многократное случайное разбиение выборки\n",
    "  \n",
    "Кросс-валидация вычислительно затратна, особенно если вы делаете перебор по сетке с очень большим числом комбинации. С учетом конечности времени на выполнение задания, возникает ряд компромиссов: \n",
    "  - сетку гиперпараметров можно делать более разреженной, перебирая меньше значений каждого гиперпараметра; однако, не стоит забывать, что в таком случае можно пропустить хорошую комбинацию гиперпараметров;\n",
    "  - кросс-валидацию можно делать с меньшим числом разбиений или фолдов, но в таком случае оценка качества становится более шумной и увеличивается риск выбрать неоптимальный набор гиперпараметров из-за случайности разбиения;\n",
    "  - гиперпараметры можно оптимизировать последовательно (жадно) — один за другим, а не перебирать все комбинации; такая стратегия не всегда приводит к оптимальному набору;\n",
    "  - перебирать не все комбинации гиперпараметров, а небольшое число случайно выбранных."
   ]
  },
  {
   "cell_type": "markdown",
   "metadata": {},
   "source": [
    "### Обучение классификаторов на вещественных признаках"
   ]
  },
  {
   "cell_type": "markdown",
   "metadata": {},
   "source": [
    "Загрузите набор данных *train.csv*, *gold.csv* и *lh.csv*. Чтобы лучше понимать, с чем вы работаете/корректно ли вы загрузили данные можно вывести несколько первых строк на экран."
   ]
  },
  {
   "cell_type": "code",
   "execution_count": 2,
   "metadata": {},
   "outputs": [],
   "source": [
    "import numpy as np\n",
    "import pandas as pd\n",
    "\n",
    "df_train = pd.read_csv('train.csv')\n",
    "df_gold = pd.read_csv('gold.csv')\n",
    "df_lh = pd.read_csv('lh.csv')"
   ]
  },
  {
   "cell_type": "code",
   "execution_count": 3,
   "metadata": {},
   "outputs": [
    {
     "data": {
      "text/html": [
       "<div>\n",
       "<style scoped>\n",
       "    .dataframe tbody tr th:only-of-type {\n",
       "        vertical-align: middle;\n",
       "    }\n",
       "\n",
       "    .dataframe tbody tr th {\n",
       "        vertical-align: top;\n",
       "    }\n",
       "\n",
       "    .dataframe thead th {\n",
       "        text-align: right;\n",
       "    }\n",
       "</style>\n",
       "<table border=\"1\" class=\"dataframe\">\n",
       "  <thead>\n",
       "    <tr style=\"text-align: right;\">\n",
       "      <th></th>\n",
       "      <th>mid</th>\n",
       "      <th>radiant_won</th>\n",
       "    </tr>\n",
       "  </thead>\n",
       "  <tbody>\n",
       "    <tr>\n",
       "      <th>0</th>\n",
       "      <td>0</td>\n",
       "      <td>1</td>\n",
       "    </tr>\n",
       "    <tr>\n",
       "      <th>1</th>\n",
       "      <td>1</td>\n",
       "      <td>0</td>\n",
       "    </tr>\n",
       "    <tr>\n",
       "      <th>2</th>\n",
       "      <td>2</td>\n",
       "      <td>1</td>\n",
       "    </tr>\n",
       "    <tr>\n",
       "      <th>3</th>\n",
       "      <td>4</td>\n",
       "      <td>1</td>\n",
       "    </tr>\n",
       "    <tr>\n",
       "      <th>4</th>\n",
       "      <td>5</td>\n",
       "      <td>1</td>\n",
       "    </tr>\n",
       "  </tbody>\n",
       "</table>\n",
       "</div>"
      ],
      "text/plain": [
       "   mid  radiant_won\n",
       "0    0            1\n",
       "1    1            0\n",
       "2    2            1\n",
       "3    4            1\n",
       "4    5            1"
      ]
     },
     "execution_count": 3,
     "metadata": {},
     "output_type": "execute_result"
    }
   ],
   "source": [
    "df_train.head()"
   ]
  },
  {
   "cell_type": "code",
   "execution_count": 4,
   "metadata": {},
   "outputs": [
    {
     "data": {
      "text/html": [
       "<div>\n",
       "<style scoped>\n",
       "    .dataframe tbody tr th:only-of-type {\n",
       "        vertical-align: middle;\n",
       "    }\n",
       "\n",
       "    .dataframe tbody tr th {\n",
       "        vertical-align: top;\n",
       "    }\n",
       "\n",
       "    .dataframe thead th {\n",
       "        text-align: right;\n",
       "    }\n",
       "</style>\n",
       "<table border=\"1\" class=\"dataframe\">\n",
       "  <thead>\n",
       "    <tr style=\"text-align: right;\">\n",
       "      <th></th>\n",
       "      <th>mid</th>\n",
       "      <th>times</th>\n",
       "      <th>player_0</th>\n",
       "      <th>player_1</th>\n",
       "      <th>player_2</th>\n",
       "      <th>player_3</th>\n",
       "      <th>player_4</th>\n",
       "      <th>player_5</th>\n",
       "      <th>player_6</th>\n",
       "      <th>player_7</th>\n",
       "      <th>player_8</th>\n",
       "      <th>player_9</th>\n",
       "    </tr>\n",
       "  </thead>\n",
       "  <tbody>\n",
       "    <tr>\n",
       "      <th>0</th>\n",
       "      <td>0</td>\n",
       "      <td>60</td>\n",
       "      <td>1</td>\n",
       "      <td>2</td>\n",
       "      <td>1</td>\n",
       "      <td>1</td>\n",
       "      <td>2</td>\n",
       "      <td>3</td>\n",
       "      <td>2</td>\n",
       "      <td>7</td>\n",
       "      <td>1</td>\n",
       "      <td>2</td>\n",
       "    </tr>\n",
       "    <tr>\n",
       "      <th>1</th>\n",
       "      <td>0</td>\n",
       "      <td>120</td>\n",
       "      <td>1</td>\n",
       "      <td>5</td>\n",
       "      <td>1</td>\n",
       "      <td>2</td>\n",
       "      <td>6</td>\n",
       "      <td>5</td>\n",
       "      <td>6</td>\n",
       "      <td>14</td>\n",
       "      <td>1</td>\n",
       "      <td>6</td>\n",
       "    </tr>\n",
       "    <tr>\n",
       "      <th>2</th>\n",
       "      <td>0</td>\n",
       "      <td>180</td>\n",
       "      <td>2</td>\n",
       "      <td>10</td>\n",
       "      <td>1</td>\n",
       "      <td>7</td>\n",
       "      <td>8</td>\n",
       "      <td>9</td>\n",
       "      <td>9</td>\n",
       "      <td>18</td>\n",
       "      <td>1</td>\n",
       "      <td>9</td>\n",
       "    </tr>\n",
       "    <tr>\n",
       "      <th>3</th>\n",
       "      <td>0</td>\n",
       "      <td>240</td>\n",
       "      <td>2</td>\n",
       "      <td>13</td>\n",
       "      <td>1</td>\n",
       "      <td>13</td>\n",
       "      <td>12</td>\n",
       "      <td>9</td>\n",
       "      <td>12</td>\n",
       "      <td>29</td>\n",
       "      <td>1</td>\n",
       "      <td>10</td>\n",
       "    </tr>\n",
       "    <tr>\n",
       "      <th>4</th>\n",
       "      <td>0</td>\n",
       "      <td>300</td>\n",
       "      <td>2</td>\n",
       "      <td>15</td>\n",
       "      <td>1</td>\n",
       "      <td>17</td>\n",
       "      <td>19</td>\n",
       "      <td>13</td>\n",
       "      <td>13</td>\n",
       "      <td>36</td>\n",
       "      <td>1</td>\n",
       "      <td>19</td>\n",
       "    </tr>\n",
       "  </tbody>\n",
       "</table>\n",
       "</div>"
      ],
      "text/plain": [
       "   mid  times  player_0  player_1  player_2  player_3  player_4  player_5  \\\n",
       "0    0     60         1         2         1         1         2         3   \n",
       "1    0    120         1         5         1         2         6         5   \n",
       "2    0    180         2        10         1         7         8         9   \n",
       "3    0    240         2        13         1        13        12         9   \n",
       "4    0    300         2        15         1        17        19        13   \n",
       "\n",
       "   player_6  player_7  player_8  player_9  \n",
       "0         2         7         1         2  \n",
       "1         6        14         1         6  \n",
       "2         9        18         1         9  \n",
       "3        12        29         1        10  \n",
       "4        13        36         1        19  "
      ]
     },
     "execution_count": 4,
     "metadata": {},
     "output_type": "execute_result"
    }
   ],
   "source": [
    "df_lh.head()"
   ]
  },
  {
   "cell_type": "code",
   "execution_count": 5,
   "metadata": {},
   "outputs": [
    {
     "data": {
      "text/html": [
       "<div>\n",
       "<style scoped>\n",
       "    .dataframe tbody tr th:only-of-type {\n",
       "        vertical-align: middle;\n",
       "    }\n",
       "\n",
       "    .dataframe tbody tr th {\n",
       "        vertical-align: top;\n",
       "    }\n",
       "\n",
       "    .dataframe thead th {\n",
       "        text-align: right;\n",
       "    }\n",
       "</style>\n",
       "<table border=\"1\" class=\"dataframe\">\n",
       "  <thead>\n",
       "    <tr style=\"text-align: right;\">\n",
       "      <th></th>\n",
       "      <th>mid</th>\n",
       "      <th>times</th>\n",
       "      <th>player_0</th>\n",
       "      <th>player_1</th>\n",
       "      <th>player_2</th>\n",
       "      <th>player_3</th>\n",
       "      <th>player_4</th>\n",
       "      <th>player_5</th>\n",
       "      <th>player_6</th>\n",
       "      <th>player_7</th>\n",
       "      <th>player_8</th>\n",
       "      <th>player_9</th>\n",
       "    </tr>\n",
       "  </thead>\n",
       "  <tbody>\n",
       "    <tr>\n",
       "      <th>0</th>\n",
       "      <td>0</td>\n",
       "      <td>60</td>\n",
       "      <td>750</td>\n",
       "      <td>350</td>\n",
       "      <td>389</td>\n",
       "      <td>437</td>\n",
       "      <td>428</td>\n",
       "      <td>398</td>\n",
       "      <td>344</td>\n",
       "      <td>654</td>\n",
       "      <td>287</td>\n",
       "      <td>1056</td>\n",
       "    </tr>\n",
       "    <tr>\n",
       "      <th>1</th>\n",
       "      <td>0</td>\n",
       "      <td>120</td>\n",
       "      <td>957</td>\n",
       "      <td>1071</td>\n",
       "      <td>633</td>\n",
       "      <td>655</td>\n",
       "      <td>1080</td>\n",
       "      <td>669</td>\n",
       "      <td>1147</td>\n",
       "      <td>1164</td>\n",
       "      <td>438</td>\n",
       "      <td>1360</td>\n",
       "    </tr>\n",
       "    <tr>\n",
       "      <th>2</th>\n",
       "      <td>0</td>\n",
       "      <td>180</td>\n",
       "      <td>1161</td>\n",
       "      <td>1527</td>\n",
       "      <td>782</td>\n",
       "      <td>1103</td>\n",
       "      <td>1346</td>\n",
       "      <td>1058</td>\n",
       "      <td>1479</td>\n",
       "      <td>1574</td>\n",
       "      <td>587</td>\n",
       "      <td>2072</td>\n",
       "    </tr>\n",
       "    <tr>\n",
       "      <th>3</th>\n",
       "      <td>0</td>\n",
       "      <td>240</td>\n",
       "      <td>1571</td>\n",
       "      <td>2033</td>\n",
       "      <td>932</td>\n",
       "      <td>1515</td>\n",
       "      <td>2058</td>\n",
       "      <td>1760</td>\n",
       "      <td>1767</td>\n",
       "      <td>2387</td>\n",
       "      <td>737</td>\n",
       "      <td>2283</td>\n",
       "    </tr>\n",
       "    <tr>\n",
       "      <th>4</th>\n",
       "      <td>0</td>\n",
       "      <td>300</td>\n",
       "      <td>1721</td>\n",
       "      <td>2313</td>\n",
       "      <td>1082</td>\n",
       "      <td>1790</td>\n",
       "      <td>2699</td>\n",
       "      <td>2087</td>\n",
       "      <td>1986</td>\n",
       "      <td>2898</td>\n",
       "      <td>887</td>\n",
       "      <td>3302</td>\n",
       "    </tr>\n",
       "  </tbody>\n",
       "</table>\n",
       "</div>"
      ],
      "text/plain": [
       "   mid  times  player_0  player_1  player_2  player_3  player_4  player_5  \\\n",
       "0    0     60       750       350       389       437       428       398   \n",
       "1    0    120       957      1071       633       655      1080       669   \n",
       "2    0    180      1161      1527       782      1103      1346      1058   \n",
       "3    0    240      1571      2033       932      1515      2058      1760   \n",
       "4    0    300      1721      2313      1082      1790      2699      2087   \n",
       "\n",
       "   player_6  player_7  player_8  player_9  \n",
       "0       344       654       287      1056  \n",
       "1      1147      1164       438      1360  \n",
       "2      1479      1574       587      2072  \n",
       "3      1767      2387       737      2283  \n",
       "4      1986      2898       887      3302  "
      ]
     },
     "execution_count": 5,
     "metadata": {},
     "output_type": "execute_result"
    }
   ],
   "source": [
    "df_gold.head()"
   ]
  },
  {
   "cell_type": "markdown",
   "metadata": {},
   "source": [
    "Иногда в данных встречаются пропуски. Способ обозначения пропусков либо прописывается в описании к данным, либо на месте пропуска после чтения данных оказывается значение [NaN](https://docs.scipy.org/doc/numpy-1.13.0/user/misc.html). Более подробно о работе с пропусками в Pandas можно прочитать например [здесь](http://pandas.pydata.org/pandas-docs/stable/missing_data.html). \n",
    "\n",
    "В данном датасете пропущенные значения обозначены как \"-1\". \n",
    "\n",
    "**Задание 1** (1 балл) \n",
    "\n",
    "Проанализируйте датасет и найдите все признаки, имеющие пропущенные значения (опишите свои наблюдения). \n",
    "\n",
    "Предобработайте текущий датасет так, что бы в нём не осталось пропусков (обоснуйте свой выбор метода предобработки)."
   ]
  },
  {
   "cell_type": "markdown",
   "metadata": {},
   "source": [
    "---\n",
    "В данном датасете нет пропусков. \n",
    "Какие способами можно было бы обработать пропуски в таблицах gold.csv и lh.csv?\n",
    "Вообще, так как таблицы хранят информацию о количестве золота и крипов, можно заменить пропуски значением на предыдущей секунде с помощью df.replace(pd.nan, ..) или же экстраполировать используя df.interpolate()"
   ]
  },
  {
   "cell_type": "code",
   "execution_count": null,
   "metadata": {},
   "outputs": [],
   "source": []
  },
  {
   "cell_type": "markdown",
   "metadata": {},
   "source": [
    "В начале мы будем работать только с вещественными признаками. \n",
    "\n",
    "Возьмите из *gold.csv* и *lh.csv* данные по 600 секунде для каждого матча и подклейте их к *train.csv* (см. [булево индексирование](https://pandas.pydata.org/pandas-docs/stable/user_guide/indexing.html#boolean-indexing) и [join](https://pandas.pydata.org/pandas-docs/stable/reference/api/pandas.DataFrame.join.html?highlight=join#pandas.DataFrame.join))."
   ]
  },
  {
   "cell_type": "code",
   "execution_count": 19,
   "metadata": {},
   "outputs": [
    {
     "data": {
      "text/html": [
       "<div>\n",
       "<style scoped>\n",
       "    .dataframe tbody tr th:only-of-type {\n",
       "        vertical-align: middle;\n",
       "    }\n",
       "\n",
       "    .dataframe tbody tr th {\n",
       "        vertical-align: top;\n",
       "    }\n",
       "\n",
       "    .dataframe thead th {\n",
       "        text-align: right;\n",
       "    }\n",
       "</style>\n",
       "<table border=\"1\" class=\"dataframe\">\n",
       "  <thead>\n",
       "    <tr style=\"text-align: right;\">\n",
       "      <th></th>\n",
       "      <th>times</th>\n",
       "      <th>player_0</th>\n",
       "      <th>player_1</th>\n",
       "      <th>player_2</th>\n",
       "      <th>player_3</th>\n",
       "      <th>player_4</th>\n",
       "      <th>player_5</th>\n",
       "      <th>player_6</th>\n",
       "      <th>player_7</th>\n",
       "      <th>player_8</th>\n",
       "      <th>player_9</th>\n",
       "    </tr>\n",
       "    <tr>\n",
       "      <th>mid</th>\n",
       "      <th></th>\n",
       "      <th></th>\n",
       "      <th></th>\n",
       "      <th></th>\n",
       "      <th></th>\n",
       "      <th></th>\n",
       "      <th></th>\n",
       "      <th></th>\n",
       "      <th></th>\n",
       "      <th></th>\n",
       "      <th></th>\n",
       "    </tr>\n",
       "  </thead>\n",
       "  <tbody>\n",
       "    <tr>\n",
       "      <th>0</th>\n",
       "      <td>60</td>\n",
       "      <td>750</td>\n",
       "      <td>350</td>\n",
       "      <td>389</td>\n",
       "      <td>437</td>\n",
       "      <td>428</td>\n",
       "      <td>398</td>\n",
       "      <td>344</td>\n",
       "      <td>654</td>\n",
       "      <td>287</td>\n",
       "      <td>1056</td>\n",
       "    </tr>\n",
       "    <tr>\n",
       "      <th>0</th>\n",
       "      <td>120</td>\n",
       "      <td>957</td>\n",
       "      <td>1071</td>\n",
       "      <td>633</td>\n",
       "      <td>655</td>\n",
       "      <td>1080</td>\n",
       "      <td>669</td>\n",
       "      <td>1147</td>\n",
       "      <td>1164</td>\n",
       "      <td>438</td>\n",
       "      <td>1360</td>\n",
       "    </tr>\n",
       "    <tr>\n",
       "      <th>0</th>\n",
       "      <td>180</td>\n",
       "      <td>1161</td>\n",
       "      <td>1527</td>\n",
       "      <td>782</td>\n",
       "      <td>1103</td>\n",
       "      <td>1346</td>\n",
       "      <td>1058</td>\n",
       "      <td>1479</td>\n",
       "      <td>1574</td>\n",
       "      <td>587</td>\n",
       "      <td>2072</td>\n",
       "    </tr>\n",
       "    <tr>\n",
       "      <th>0</th>\n",
       "      <td>240</td>\n",
       "      <td>1571</td>\n",
       "      <td>2033</td>\n",
       "      <td>932</td>\n",
       "      <td>1515</td>\n",
       "      <td>2058</td>\n",
       "      <td>1760</td>\n",
       "      <td>1767</td>\n",
       "      <td>2387</td>\n",
       "      <td>737</td>\n",
       "      <td>2283</td>\n",
       "    </tr>\n",
       "    <tr>\n",
       "      <th>0</th>\n",
       "      <td>300</td>\n",
       "      <td>1721</td>\n",
       "      <td>2313</td>\n",
       "      <td>1082</td>\n",
       "      <td>1790</td>\n",
       "      <td>2699</td>\n",
       "      <td>2087</td>\n",
       "      <td>1986</td>\n",
       "      <td>2898</td>\n",
       "      <td>887</td>\n",
       "      <td>3302</td>\n",
       "    </tr>\n",
       "    <tr>\n",
       "      <th>...</th>\n",
       "      <td>...</td>\n",
       "      <td>...</td>\n",
       "      <td>...</td>\n",
       "      <td>...</td>\n",
       "      <td>...</td>\n",
       "      <td>...</td>\n",
       "      <td>...</td>\n",
       "      <td>...</td>\n",
       "      <td>...</td>\n",
       "      <td>...</td>\n",
       "      <td>...</td>\n",
       "    </tr>\n",
       "    <tr>\n",
       "      <th>49947</th>\n",
       "      <td>360</td>\n",
       "      <td>2640</td>\n",
       "      <td>1356</td>\n",
       "      <td>4493</td>\n",
       "      <td>3186</td>\n",
       "      <td>2720</td>\n",
       "      <td>2244</td>\n",
       "      <td>1236</td>\n",
       "      <td>2150</td>\n",
       "      <td>2232</td>\n",
       "      <td>2850</td>\n",
       "    </tr>\n",
       "    <tr>\n",
       "      <th>49947</th>\n",
       "      <td>420</td>\n",
       "      <td>3176</td>\n",
       "      <td>1854</td>\n",
       "      <td>5259</td>\n",
       "      <td>3336</td>\n",
       "      <td>3299</td>\n",
       "      <td>2706</td>\n",
       "      <td>1449</td>\n",
       "      <td>2541</td>\n",
       "      <td>2621</td>\n",
       "      <td>3345</td>\n",
       "    </tr>\n",
       "    <tr>\n",
       "      <th>49947</th>\n",
       "      <td>480</td>\n",
       "      <td>3760</td>\n",
       "      <td>2005</td>\n",
       "      <td>6313</td>\n",
       "      <td>3487</td>\n",
       "      <td>3450</td>\n",
       "      <td>3171</td>\n",
       "      <td>1600</td>\n",
       "      <td>3360</td>\n",
       "      <td>3184</td>\n",
       "      <td>3865</td>\n",
       "    </tr>\n",
       "    <tr>\n",
       "      <th>49947</th>\n",
       "      <td>540</td>\n",
       "      <td>4041</td>\n",
       "      <td>2155</td>\n",
       "      <td>7999</td>\n",
       "      <td>4242</td>\n",
       "      <td>3724</td>\n",
       "      <td>3541</td>\n",
       "      <td>2271</td>\n",
       "      <td>3883</td>\n",
       "      <td>3453</td>\n",
       "      <td>4513</td>\n",
       "    </tr>\n",
       "    <tr>\n",
       "      <th>49947</th>\n",
       "      <td>600</td>\n",
       "      <td>4371</td>\n",
       "      <td>2655</td>\n",
       "      <td>9069</td>\n",
       "      <td>4518</td>\n",
       "      <td>4494</td>\n",
       "      <td>3951</td>\n",
       "      <td>2421</td>\n",
       "      <td>4423</td>\n",
       "      <td>3963</td>\n",
       "      <td>4969</td>\n",
       "    </tr>\n",
       "  </tbody>\n",
       "</table>\n",
       "<p>499480 rows × 11 columns</p>\n",
       "</div>"
      ],
      "text/plain": [
       "       times  player_0  player_1  player_2  player_3  player_4  player_5  \\\n",
       "mid                                                                        \n",
       "0         60       750       350       389       437       428       398   \n",
       "0        120       957      1071       633       655      1080       669   \n",
       "0        180      1161      1527       782      1103      1346      1058   \n",
       "0        240      1571      2033       932      1515      2058      1760   \n",
       "0        300      1721      2313      1082      1790      2699      2087   \n",
       "...      ...       ...       ...       ...       ...       ...       ...   \n",
       "49947    360      2640      1356      4493      3186      2720      2244   \n",
       "49947    420      3176      1854      5259      3336      3299      2706   \n",
       "49947    480      3760      2005      6313      3487      3450      3171   \n",
       "49947    540      4041      2155      7999      4242      3724      3541   \n",
       "49947    600      4371      2655      9069      4518      4494      3951   \n",
       "\n",
       "       player_6  player_7  player_8  player_9  \n",
       "mid                                            \n",
       "0           344       654       287      1056  \n",
       "0          1147      1164       438      1360  \n",
       "0          1479      1574       587      2072  \n",
       "0          1767      2387       737      2283  \n",
       "0          1986      2898       887      3302  \n",
       "...         ...       ...       ...       ...  \n",
       "49947      1236      2150      2232      2850  \n",
       "49947      1449      2541      2621      3345  \n",
       "49947      1600      3360      3184      3865  \n",
       "49947      2271      3883      3453      4513  \n",
       "49947      2421      4423      3963      4969  \n",
       "\n",
       "[499480 rows x 11 columns]"
      ]
     },
     "execution_count": 19,
     "metadata": {},
     "output_type": "execute_result"
    }
   ],
   "source": [
    "df_gold.set_index('mid', inplace=True)\n",
    "df_gold"
   ]
  },
  {
   "cell_type": "code",
   "execution_count": 20,
   "metadata": {},
   "outputs": [],
   "source": [
    "df_train.set_index('mid', inplace=True)\n",
    "df_lh.set_index('mid', inplace=True)\n"
   ]
  },
  {
   "cell_type": "code",
   "execution_count": 26,
   "metadata": {},
   "outputs": [
    {
     "data": {
      "text/html": [
       "<div>\n",
       "<style scoped>\n",
       "    .dataframe tbody tr th:only-of-type {\n",
       "        vertical-align: middle;\n",
       "    }\n",
       "\n",
       "    .dataframe tbody tr th {\n",
       "        vertical-align: top;\n",
       "    }\n",
       "\n",
       "    .dataframe thead th {\n",
       "        text-align: right;\n",
       "    }\n",
       "</style>\n",
       "<table border=\"1\" class=\"dataframe\">\n",
       "  <thead>\n",
       "    <tr style=\"text-align: right;\">\n",
       "      <th></th>\n",
       "      <th>radiant_won</th>\n",
       "      <th>times_gold</th>\n",
       "      <th>player_0_gold</th>\n",
       "      <th>player_1_gold</th>\n",
       "      <th>player_2_gold</th>\n",
       "      <th>player_3_gold</th>\n",
       "      <th>player_4_gold</th>\n",
       "      <th>player_5_gold</th>\n",
       "      <th>player_6_gold</th>\n",
       "      <th>player_7_gold</th>\n",
       "      <th>...</th>\n",
       "      <th>player_0_lh</th>\n",
       "      <th>player_1_lh</th>\n",
       "      <th>player_2_lh</th>\n",
       "      <th>player_3_lh</th>\n",
       "      <th>player_4_lh</th>\n",
       "      <th>player_5_lh</th>\n",
       "      <th>player_6_lh</th>\n",
       "      <th>player_7_lh</th>\n",
       "      <th>player_8_lh</th>\n",
       "      <th>player_9_lh</th>\n",
       "    </tr>\n",
       "    <tr>\n",
       "      <th>mid</th>\n",
       "      <th></th>\n",
       "      <th></th>\n",
       "      <th></th>\n",
       "      <th></th>\n",
       "      <th></th>\n",
       "      <th></th>\n",
       "      <th></th>\n",
       "      <th></th>\n",
       "      <th></th>\n",
       "      <th></th>\n",
       "      <th></th>\n",
       "      <th></th>\n",
       "      <th></th>\n",
       "      <th></th>\n",
       "      <th></th>\n",
       "      <th></th>\n",
       "      <th></th>\n",
       "      <th></th>\n",
       "      <th></th>\n",
       "      <th></th>\n",
       "      <th></th>\n",
       "    </tr>\n",
       "  </thead>\n",
       "  <tbody>\n",
       "    <tr>\n",
       "      <th>0</th>\n",
       "      <td>1</td>\n",
       "      <td>600</td>\n",
       "      <td>3454</td>\n",
       "      <td>5206</td>\n",
       "      <td>2613</td>\n",
       "      <td>4426</td>\n",
       "      <td>5755</td>\n",
       "      <td>4072</td>\n",
       "      <td>3997</td>\n",
       "      <td>5917</td>\n",
       "      <td>...</td>\n",
       "      <td>4</td>\n",
       "      <td>43</td>\n",
       "      <td>3</td>\n",
       "      <td>57</td>\n",
       "      <td>41</td>\n",
       "      <td>34</td>\n",
       "      <td>35</td>\n",
       "      <td>75</td>\n",
       "      <td>2</td>\n",
       "      <td>46</td>\n",
       "    </tr>\n",
       "    <tr>\n",
       "      <th>1</th>\n",
       "      <td>0</td>\n",
       "      <td>600</td>\n",
       "      <td>2477</td>\n",
       "      <td>5760</td>\n",
       "      <td>3816</td>\n",
       "      <td>4353</td>\n",
       "      <td>5759</td>\n",
       "      <td>7659</td>\n",
       "      <td>5066</td>\n",
       "      <td>2748</td>\n",
       "      <td>...</td>\n",
       "      <td>5</td>\n",
       "      <td>63</td>\n",
       "      <td>14</td>\n",
       "      <td>28</td>\n",
       "      <td>47</td>\n",
       "      <td>49</td>\n",
       "      <td>23</td>\n",
       "      <td>3</td>\n",
       "      <td>30</td>\n",
       "      <td>39</td>\n",
       "    </tr>\n",
       "    <tr>\n",
       "      <th>2</th>\n",
       "      <td>1</td>\n",
       "      <td>600</td>\n",
       "      <td>3604</td>\n",
       "      <td>1948</td>\n",
       "      <td>8581</td>\n",
       "      <td>4390</td>\n",
       "      <td>2869</td>\n",
       "      <td>3096</td>\n",
       "      <td>2301</td>\n",
       "      <td>5130</td>\n",
       "      <td>...</td>\n",
       "      <td>34</td>\n",
       "      <td>6</td>\n",
       "      <td>69</td>\n",
       "      <td>42</td>\n",
       "      <td>23</td>\n",
       "      <td>6</td>\n",
       "      <td>12</td>\n",
       "      <td>56</td>\n",
       "      <td>13</td>\n",
       "      <td>12</td>\n",
       "    </tr>\n",
       "    <tr>\n",
       "      <th>4</th>\n",
       "      <td>1</td>\n",
       "      <td>600</td>\n",
       "      <td>3675</td>\n",
       "      <td>4103</td>\n",
       "      <td>5154</td>\n",
       "      <td>3030</td>\n",
       "      <td>2076</td>\n",
       "      <td>3920</td>\n",
       "      <td>3494</td>\n",
       "      <td>3392</td>\n",
       "      <td>...</td>\n",
       "      <td>30</td>\n",
       "      <td>41</td>\n",
       "      <td>45</td>\n",
       "      <td>23</td>\n",
       "      <td>4</td>\n",
       "      <td>26</td>\n",
       "      <td>9</td>\n",
       "      <td>23</td>\n",
       "      <td>37</td>\n",
       "      <td>6</td>\n",
       "    </tr>\n",
       "    <tr>\n",
       "      <th>5</th>\n",
       "      <td>1</td>\n",
       "      <td>600</td>\n",
       "      <td>4252</td>\n",
       "      <td>2412</td>\n",
       "      <td>2545</td>\n",
       "      <td>4264</td>\n",
       "      <td>2544</td>\n",
       "      <td>4752</td>\n",
       "      <td>5389</td>\n",
       "      <td>4954</td>\n",
       "      <td>...</td>\n",
       "      <td>42</td>\n",
       "      <td>5</td>\n",
       "      <td>16</td>\n",
       "      <td>30</td>\n",
       "      <td>3</td>\n",
       "      <td>42</td>\n",
       "      <td>24</td>\n",
       "      <td>53</td>\n",
       "      <td>12</td>\n",
       "      <td>14</td>\n",
       "    </tr>\n",
       "    <tr>\n",
       "      <th>...</th>\n",
       "      <td>...</td>\n",
       "      <td>...</td>\n",
       "      <td>...</td>\n",
       "      <td>...</td>\n",
       "      <td>...</td>\n",
       "      <td>...</td>\n",
       "      <td>...</td>\n",
       "      <td>...</td>\n",
       "      <td>...</td>\n",
       "      <td>...</td>\n",
       "      <td>...</td>\n",
       "      <td>...</td>\n",
       "      <td>...</td>\n",
       "      <td>...</td>\n",
       "      <td>...</td>\n",
       "      <td>...</td>\n",
       "      <td>...</td>\n",
       "      <td>...</td>\n",
       "      <td>...</td>\n",
       "      <td>...</td>\n",
       "      <td>...</td>\n",
       "    </tr>\n",
       "    <tr>\n",
       "      <th>49939</th>\n",
       "      <td>0</td>\n",
       "      <td>600</td>\n",
       "      <td>4262</td>\n",
       "      <td>7316</td>\n",
       "      <td>3996</td>\n",
       "      <td>3863</td>\n",
       "      <td>2199</td>\n",
       "      <td>5718</td>\n",
       "      <td>3876</td>\n",
       "      <td>4296</td>\n",
       "      <td>...</td>\n",
       "      <td>49</td>\n",
       "      <td>74</td>\n",
       "      <td>30</td>\n",
       "      <td>12</td>\n",
       "      <td>2</td>\n",
       "      <td>47</td>\n",
       "      <td>5</td>\n",
       "      <td>35</td>\n",
       "      <td>39</td>\n",
       "      <td>4</td>\n",
       "    </tr>\n",
       "    <tr>\n",
       "      <th>49940</th>\n",
       "      <td>1</td>\n",
       "      <td>600</td>\n",
       "      <td>7250</td>\n",
       "      <td>3984</td>\n",
       "      <td>6380</td>\n",
       "      <td>2954</td>\n",
       "      <td>6243</td>\n",
       "      <td>3095</td>\n",
       "      <td>5105</td>\n",
       "      <td>1811</td>\n",
       "      <td>...</td>\n",
       "      <td>48</td>\n",
       "      <td>2</td>\n",
       "      <td>54</td>\n",
       "      <td>12</td>\n",
       "      <td>61</td>\n",
       "      <td>26</td>\n",
       "      <td>71</td>\n",
       "      <td>4</td>\n",
       "      <td>49</td>\n",
       "      <td>5</td>\n",
       "    </tr>\n",
       "    <tr>\n",
       "      <th>49941</th>\n",
       "      <td>1</td>\n",
       "      <td>600</td>\n",
       "      <td>2873</td>\n",
       "      <td>4727</td>\n",
       "      <td>4655</td>\n",
       "      <td>4923</td>\n",
       "      <td>3645</td>\n",
       "      <td>5978</td>\n",
       "      <td>2801</td>\n",
       "      <td>3875</td>\n",
       "      <td>...</td>\n",
       "      <td>31</td>\n",
       "      <td>54</td>\n",
       "      <td>42</td>\n",
       "      <td>52</td>\n",
       "      <td>7</td>\n",
       "      <td>49</td>\n",
       "      <td>1</td>\n",
       "      <td>10</td>\n",
       "      <td>16</td>\n",
       "      <td>53</td>\n",
       "    </tr>\n",
       "    <tr>\n",
       "      <th>49945</th>\n",
       "      <td>0</td>\n",
       "      <td>600</td>\n",
       "      <td>2325</td>\n",
       "      <td>1813</td>\n",
       "      <td>2530</td>\n",
       "      <td>4807</td>\n",
       "      <td>5542</td>\n",
       "      <td>2242</td>\n",
       "      <td>2359</td>\n",
       "      <td>5997</td>\n",
       "      <td>...</td>\n",
       "      <td>13</td>\n",
       "      <td>6</td>\n",
       "      <td>2</td>\n",
       "      <td>37</td>\n",
       "      <td>67</td>\n",
       "      <td>7</td>\n",
       "      <td>7</td>\n",
       "      <td>61</td>\n",
       "      <td>49</td>\n",
       "      <td>2</td>\n",
       "    </tr>\n",
       "    <tr>\n",
       "      <th>49946</th>\n",
       "      <td>0</td>\n",
       "      <td>600</td>\n",
       "      <td>4134</td>\n",
       "      <td>3141</td>\n",
       "      <td>4086</td>\n",
       "      <td>4405</td>\n",
       "      <td>3517</td>\n",
       "      <td>2887</td>\n",
       "      <td>7450</td>\n",
       "      <td>3634</td>\n",
       "      <td>...</td>\n",
       "      <td>2</td>\n",
       "      <td>24</td>\n",
       "      <td>15</td>\n",
       "      <td>23</td>\n",
       "      <td>30</td>\n",
       "      <td>9</td>\n",
       "      <td>72</td>\n",
       "      <td>4</td>\n",
       "      <td>51</td>\n",
       "      <td>36</td>\n",
       "    </tr>\n",
       "  </tbody>\n",
       "</table>\n",
       "<p>24974 rows × 23 columns</p>\n",
       "</div>"
      ],
      "text/plain": [
       "       radiant_won  times_gold  player_0_gold  player_1_gold  player_2_gold  \\\n",
       "mid                                                                           \n",
       "0                1         600           3454           5206           2613   \n",
       "1                0         600           2477           5760           3816   \n",
       "2                1         600           3604           1948           8581   \n",
       "4                1         600           3675           4103           5154   \n",
       "5                1         600           4252           2412           2545   \n",
       "...            ...         ...            ...            ...            ...   \n",
       "49939            0         600           4262           7316           3996   \n",
       "49940            1         600           7250           3984           6380   \n",
       "49941            1         600           2873           4727           4655   \n",
       "49945            0         600           2325           1813           2530   \n",
       "49946            0         600           4134           3141           4086   \n",
       "\n",
       "       player_3_gold  player_4_gold  player_5_gold  player_6_gold  \\\n",
       "mid                                                                 \n",
       "0               4426           5755           4072           3997   \n",
       "1               4353           5759           7659           5066   \n",
       "2               4390           2869           3096           2301   \n",
       "4               3030           2076           3920           3494   \n",
       "5               4264           2544           4752           5389   \n",
       "...              ...            ...            ...            ...   \n",
       "49939           3863           2199           5718           3876   \n",
       "49940           2954           6243           3095           5105   \n",
       "49941           4923           3645           5978           2801   \n",
       "49945           4807           5542           2242           2359   \n",
       "49946           4405           3517           2887           7450   \n",
       "\n",
       "       player_7_gold  ...  player_0_lh  player_1_lh  player_2_lh  player_3_lh  \\\n",
       "mid                   ...                                                       \n",
       "0               5917  ...            4           43            3           57   \n",
       "1               2748  ...            5           63           14           28   \n",
       "2               5130  ...           34            6           69           42   \n",
       "4               3392  ...           30           41           45           23   \n",
       "5               4954  ...           42            5           16           30   \n",
       "...              ...  ...          ...          ...          ...          ...   \n",
       "49939           4296  ...           49           74           30           12   \n",
       "49940           1811  ...           48            2           54           12   \n",
       "49941           3875  ...           31           54           42           52   \n",
       "49945           5997  ...           13            6            2           37   \n",
       "49946           3634  ...            2           24           15           23   \n",
       "\n",
       "       player_4_lh  player_5_lh  player_6_lh  player_7_lh  player_8_lh  \\\n",
       "mid                                                                      \n",
       "0               41           34           35           75            2   \n",
       "1               47           49           23            3           30   \n",
       "2               23            6           12           56           13   \n",
       "4                4           26            9           23           37   \n",
       "5                3           42           24           53           12   \n",
       "...            ...          ...          ...          ...          ...   \n",
       "49939            2           47            5           35           39   \n",
       "49940           61           26           71            4           49   \n",
       "49941            7           49            1           10           16   \n",
       "49945           67            7            7           61           49   \n",
       "49946           30            9           72            4           51   \n",
       "\n",
       "       player_9_lh  \n",
       "mid                 \n",
       "0               46  \n",
       "1               39  \n",
       "2               12  \n",
       "4                6  \n",
       "5               14  \n",
       "...            ...  \n",
       "49939            4  \n",
       "49940            5  \n",
       "49941           53  \n",
       "49945            2  \n",
       "49946           36  \n",
       "\n",
       "[24974 rows x 23 columns]"
      ]
     },
     "execution_count": 26,
     "metadata": {},
     "output_type": "execute_result"
    }
   ],
   "source": [
    "df = df_train.join(df_gold[df_gold['times'] == 600], on='mid')\n",
    "df = df.join(df_lh[df_lh['times'] == 600], on='mid', lsuffix='_gold', rsuffix='_lh')\n",
    "df"
   ]
  },
  {
   "cell_type": "markdown",
   "metadata": {},
   "source": [
    "**Задание 2** (1 балл)\n",
    "\n",
    "Постройте для команд radiant и dire различные агригаты по игрокам на 600 секунде. Опишите какие именно агригаты вы построили и почему."
   ]
  },
  {
   "cell_type": "code",
   "execution_count": 28,
   "metadata": {},
   "outputs": [],
   "source": [
    "radiant_gold = ['player_0_gold', 'player_1_gold', 'player_2_gold', 'player_3_gold', 'player_4_gold']\n",
    "dire_gold =  ['player_5_gold', 'player_6_gold', 'player_7_gold', 'player_8_gold', 'player_9_gold']\n",
    "radiant_lh = ['player_0_lh', 'player_1_lh', 'player_2_lh', 'player_3_lh', 'player_4_lh']\n",
    "dire_lh =  ['player_5_lh', 'player_6_lh', 'player_7_lh', 'player_8_lh', 'player_9_lh']"
   ]
  },
  {
   "cell_type": "code",
   "execution_count": 35,
   "metadata": {},
   "outputs": [
    {
     "data": {
      "text/plain": [
       "['radiant_gold_mean',\n",
       " 'radiant_gold_sum',\n",
       " 'dire_gold_mean',\n",
       " 'dire_gold_sum',\n",
       " 'radiant_lh_mean',\n",
       " 'radiant_lh_sum',\n",
       " 'dire_lh_mean',\n",
       " 'dire_lh_sum']"
      ]
     },
     "execution_count": 35,
     "metadata": {},
     "output_type": "execute_result"
    }
   ],
   "source": [
    "df['radiant_gold_mean'] = df[radiant_gold].mean(axis=1)\n",
    "df['radiant_gold_sum'] = df[radiant_gold].sum(axis=1)\n",
    "df['dire_gold_mean'] = df[dire_gold].mean(axis=1)\n",
    "df['dire_gold_sum'] = df[dire_gold].sum(axis=1)\n",
    "\n",
    "df['radiant_lh_mean'] = df[radiant_lh].mean(axis=1)\n",
    "df['radiant_lh_sum'] = df[radiant_lh].sum(axis=1)\n",
    "df['dire_lh_mean'] = df[dire_lh].mean(axis=1)\n",
    "df['dire_lh_sum'] = df[dire_lh].sum(axis=1)\n",
    "\n",
    "param_grid = ['radiant_gold_mean', 'radiant_gold_sum', 'dire_gold_mean', 'dire_gold_sum', 'radiant_lh_mean', 'radiant_lh_sum', 'dire_lh_mean', 'dire_lh_sum']\n",
    "param_grid"
   ]
  },
  {
   "cell_type": "code",
   "execution_count": 36,
   "metadata": {},
   "outputs": [
    {
     "data": {
      "text/html": [
       "<div>\n",
       "<style scoped>\n",
       "    .dataframe tbody tr th:only-of-type {\n",
       "        vertical-align: middle;\n",
       "    }\n",
       "\n",
       "    .dataframe tbody tr th {\n",
       "        vertical-align: top;\n",
       "    }\n",
       "\n",
       "    .dataframe thead th {\n",
       "        text-align: right;\n",
       "    }\n",
       "</style>\n",
       "<table border=\"1\" class=\"dataframe\">\n",
       "  <thead>\n",
       "    <tr style=\"text-align: right;\">\n",
       "      <th></th>\n",
       "      <th>radiant_won</th>\n",
       "      <th>times_gold</th>\n",
       "      <th>player_0_gold</th>\n",
       "      <th>player_1_gold</th>\n",
       "      <th>player_2_gold</th>\n",
       "      <th>player_3_gold</th>\n",
       "      <th>player_4_gold</th>\n",
       "      <th>player_5_gold</th>\n",
       "      <th>player_6_gold</th>\n",
       "      <th>player_7_gold</th>\n",
       "      <th>...</th>\n",
       "      <th>player_8_lh</th>\n",
       "      <th>player_9_lh</th>\n",
       "      <th>radiant_gold_mean</th>\n",
       "      <th>radiant_gold_sum</th>\n",
       "      <th>dire_gold_mean</th>\n",
       "      <th>dire_gold_sum</th>\n",
       "      <th>radiant_lh_mean</th>\n",
       "      <th>radiant_lh_sum</th>\n",
       "      <th>dire_lh_mean</th>\n",
       "      <th>dire_lh_sum</th>\n",
       "    </tr>\n",
       "    <tr>\n",
       "      <th>mid</th>\n",
       "      <th></th>\n",
       "      <th></th>\n",
       "      <th></th>\n",
       "      <th></th>\n",
       "      <th></th>\n",
       "      <th></th>\n",
       "      <th></th>\n",
       "      <th></th>\n",
       "      <th></th>\n",
       "      <th></th>\n",
       "      <th></th>\n",
       "      <th></th>\n",
       "      <th></th>\n",
       "      <th></th>\n",
       "      <th></th>\n",
       "      <th></th>\n",
       "      <th></th>\n",
       "      <th></th>\n",
       "      <th></th>\n",
       "      <th></th>\n",
       "      <th></th>\n",
       "    </tr>\n",
       "  </thead>\n",
       "  <tbody>\n",
       "    <tr>\n",
       "      <th>0</th>\n",
       "      <td>1</td>\n",
       "      <td>600</td>\n",
       "      <td>3454</td>\n",
       "      <td>5206</td>\n",
       "      <td>2613</td>\n",
       "      <td>4426</td>\n",
       "      <td>5755</td>\n",
       "      <td>4072</td>\n",
       "      <td>3997</td>\n",
       "      <td>5917</td>\n",
       "      <td>...</td>\n",
       "      <td>2</td>\n",
       "      <td>46</td>\n",
       "      <td>4290.8</td>\n",
       "      <td>21454</td>\n",
       "      <td>4419.0</td>\n",
       "      <td>22095</td>\n",
       "      <td>29.6</td>\n",
       "      <td>148</td>\n",
       "      <td>38.4</td>\n",
       "      <td>192</td>\n",
       "    </tr>\n",
       "    <tr>\n",
       "      <th>1</th>\n",
       "      <td>0</td>\n",
       "      <td>600</td>\n",
       "      <td>2477</td>\n",
       "      <td>5760</td>\n",
       "      <td>3816</td>\n",
       "      <td>4353</td>\n",
       "      <td>5759</td>\n",
       "      <td>7659</td>\n",
       "      <td>5066</td>\n",
       "      <td>2748</td>\n",
       "      <td>...</td>\n",
       "      <td>30</td>\n",
       "      <td>39</td>\n",
       "      <td>4433.0</td>\n",
       "      <td>22165</td>\n",
       "      <td>4907.2</td>\n",
       "      <td>24536</td>\n",
       "      <td>31.4</td>\n",
       "      <td>157</td>\n",
       "      <td>28.8</td>\n",
       "      <td>144</td>\n",
       "    </tr>\n",
       "    <tr>\n",
       "      <th>2</th>\n",
       "      <td>1</td>\n",
       "      <td>600</td>\n",
       "      <td>3604</td>\n",
       "      <td>1948</td>\n",
       "      <td>8581</td>\n",
       "      <td>4390</td>\n",
       "      <td>2869</td>\n",
       "      <td>3096</td>\n",
       "      <td>2301</td>\n",
       "      <td>5130</td>\n",
       "      <td>...</td>\n",
       "      <td>13</td>\n",
       "      <td>12</td>\n",
       "      <td>4278.4</td>\n",
       "      <td>21392</td>\n",
       "      <td>3109.6</td>\n",
       "      <td>15548</td>\n",
       "      <td>34.8</td>\n",
       "      <td>174</td>\n",
       "      <td>19.8</td>\n",
       "      <td>99</td>\n",
       "    </tr>\n",
       "    <tr>\n",
       "      <th>4</th>\n",
       "      <td>1</td>\n",
       "      <td>600</td>\n",
       "      <td>3675</td>\n",
       "      <td>4103</td>\n",
       "      <td>5154</td>\n",
       "      <td>3030</td>\n",
       "      <td>2076</td>\n",
       "      <td>3920</td>\n",
       "      <td>3494</td>\n",
       "      <td>3392</td>\n",
       "      <td>...</td>\n",
       "      <td>37</td>\n",
       "      <td>6</td>\n",
       "      <td>3607.6</td>\n",
       "      <td>18038</td>\n",
       "      <td>3496.8</td>\n",
       "      <td>17484</td>\n",
       "      <td>28.6</td>\n",
       "      <td>143</td>\n",
       "      <td>20.2</td>\n",
       "      <td>101</td>\n",
       "    </tr>\n",
       "    <tr>\n",
       "      <th>5</th>\n",
       "      <td>1</td>\n",
       "      <td>600</td>\n",
       "      <td>4252</td>\n",
       "      <td>2412</td>\n",
       "      <td>2545</td>\n",
       "      <td>4264</td>\n",
       "      <td>2544</td>\n",
       "      <td>4752</td>\n",
       "      <td>5389</td>\n",
       "      <td>4954</td>\n",
       "      <td>...</td>\n",
       "      <td>12</td>\n",
       "      <td>14</td>\n",
       "      <td>3203.4</td>\n",
       "      <td>16017</td>\n",
       "      <td>4408.2</td>\n",
       "      <td>22041</td>\n",
       "      <td>19.2</td>\n",
       "      <td>96</td>\n",
       "      <td>29.0</td>\n",
       "      <td>145</td>\n",
       "    </tr>\n",
       "  </tbody>\n",
       "</table>\n",
       "<p>5 rows × 31 columns</p>\n",
       "</div>"
      ],
      "text/plain": [
       "     radiant_won  times_gold  player_0_gold  player_1_gold  player_2_gold  \\\n",
       "mid                                                                         \n",
       "0              1         600           3454           5206           2613   \n",
       "1              0         600           2477           5760           3816   \n",
       "2              1         600           3604           1948           8581   \n",
       "4              1         600           3675           4103           5154   \n",
       "5              1         600           4252           2412           2545   \n",
       "\n",
       "     player_3_gold  player_4_gold  player_5_gold  player_6_gold  \\\n",
       "mid                                                               \n",
       "0             4426           5755           4072           3997   \n",
       "1             4353           5759           7659           5066   \n",
       "2             4390           2869           3096           2301   \n",
       "4             3030           2076           3920           3494   \n",
       "5             4264           2544           4752           5389   \n",
       "\n",
       "     player_7_gold  ...  player_8_lh  player_9_lh  radiant_gold_mean  \\\n",
       "mid                 ...                                                \n",
       "0             5917  ...            2           46             4290.8   \n",
       "1             2748  ...           30           39             4433.0   \n",
       "2             5130  ...           13           12             4278.4   \n",
       "4             3392  ...           37            6             3607.6   \n",
       "5             4954  ...           12           14             3203.4   \n",
       "\n",
       "     radiant_gold_sum  dire_gold_mean  dire_gold_sum  radiant_lh_mean  \\\n",
       "mid                                                                     \n",
       "0               21454          4419.0          22095             29.6   \n",
       "1               22165          4907.2          24536             31.4   \n",
       "2               21392          3109.6          15548             34.8   \n",
       "4               18038          3496.8          17484             28.6   \n",
       "5               16017          4408.2          22041             19.2   \n",
       "\n",
       "     radiant_lh_sum  dire_lh_mean  dire_lh_sum  \n",
       "mid                                             \n",
       "0               148          38.4          192  \n",
       "1               157          28.8          144  \n",
       "2               174          19.8           99  \n",
       "4               143          20.2          101  \n",
       "5                96          29.0          145  \n",
       "\n",
       "[5 rows x 31 columns]"
      ]
     },
     "execution_count": 36,
     "metadata": {},
     "output_type": "execute_result"
    }
   ],
   "source": [
    "df.head()"
   ]
  },
  {
   "cell_type": "markdown",
   "metadata": {},
   "source": [
    "Сейчас и далее будем рассматривать следующие алгоритмы:\n",
    " - [Logistic Regression Classifier](https://scikit-learn.org/stable/modules/generated/sklearn.linear_model.LogisticRegression.html)\n",
    " - [C-Support Vector Classification](https://scikit-learn.org/stable/modules/generated/sklearn.svm.SVC.html)\n",
    " - [Multi-layer Perceptron Classifier](https://scikit-learn.org/stable/modules/generated/sklearn.neural_network.MLPClassifier.html)"
   ]
  },
  {
   "cell_type": "markdown",
   "metadata": {},
   "source": [
    "**Задание 3** (1.5 балла) \n",
    "\n",
    "Для каждого алгоритма выберете один гиперпараметр и подберите его оптимальное значение. Для подбора гиперпараметров воспользуйтесь перебором по сетке, который реализован в классе [GridSearchCV](http://scikit-learn.org/stable/modules/generated/sklearn.model_selection.GridSearchCV.html#sklearn.model_selection.GridSearchCV). В качестве схемы кросс-валидации используйте 5-Fold CV, которую можно задать с помощью класса [KFoldCV](http://scikit-learn.org/stable/modules/generated/sklearn.model_selection.KFold.html#sklearn.model_selection.KFold).\n",
    "\n",
    "Постройте график среднего значения качества по кросс-валидации алгоритма при заданном значении гиперпараметра, на котором также отобразите доверительный интервал. Для получения значения качества на каждом фолде, среднего значение качества и другой полезной информации можно воспользоваться полем [*cv results_*](http://scikit-learn.org/stable/modules/generated/sklearn.model_selection.GridSearchCV.html#sklearn.model_selection.GridSearchCV)\n",
    "\n",
    "У какого алгоритма наибольшее среднее значение качества? Наибольший доверительный интервал?"
   ]
  },
  {
   "cell_type": "markdown",
   "metadata": {},
   "source": [
    "____"
   ]
  },
  {
   "cell_type": "code",
   "execution_count": 197,
   "metadata": {},
   "outputs": [],
   "source": [
    "from sklearn.model_selection import train_test_split\n",
    "from sklearn.linear_model import LogisticRegression\n",
    "from sklearn.svm import SVC\n",
    "from sklearn.neural_network import MLPClassifier\n",
    "from sklearn.model_selection import GridSearchCV\n",
    "from sklearn.model_selection import KFold\n"
   ]
  },
  {
   "cell_type": "code",
   "execution_count": 210,
   "metadata": {},
   "outputs": [],
   "source": [
    "X = df[param_grid]\n",
    "y = df['radiant_won']\n",
    "\n",
    "X_train, X_test, y_train, y_test = train_test_split(X, y, test_size=0.2, random_state=42)"
   ]
  },
  {
   "cell_type": "code",
   "execution_count": 226,
   "metadata": {},
   "outputs": [
    {
     "data": {
      "text/plain": [
       "(0.7056451676605999, {'C': 0.0006137931034482759})"
      ]
     },
     "execution_count": 226,
     "metadata": {},
     "output_type": "execute_result"
    }
   ],
   "source": [
    "\n",
    "estimator = LogisticRegression()\n",
    "parametres = {'C': np.linspace(0.0001, 0.0150, 30)}\n",
    "gs_lr = GridSearchCV(estimator, parametres, cv=KFold(n_splits=5), scoring='roc_auc', n_jobs=-1, refit=True)\n",
    "gs_lr.fit(X_train, y_train)\n",
    "\n",
    "gs_lr.best_score_, gs_lr.best_params_"
   ]
  },
  {
   "cell_type": "code",
   "execution_count": 227,
   "metadata": {},
   "outputs": [
    {
     "data": {
      "text/plain": [
       "array([0.0001    , 0.00061379, 0.00112759, 0.00164138, 0.00215517,\n",
       "       0.00266897, 0.00318276, 0.00369655, 0.00421034, 0.00472414,\n",
       "       0.00523793, 0.00575172, 0.00626552, 0.00677931, 0.0072931 ,\n",
       "       0.0078069 , 0.00832069, 0.00883448, 0.00934828, 0.00986207,\n",
       "       0.01037586, 0.01088966, 0.01140345, 0.01191724, 0.01243103,\n",
       "       0.01294483, 0.01345862, 0.01397241, 0.01448621, 0.015     ])"
      ]
     },
     "execution_count": 227,
     "metadata": {},
     "output_type": "execute_result"
    }
   ],
   "source": [
    "parametres['C']"
   ]
  },
  {
   "cell_type": "code",
   "execution_count": 228,
   "metadata": {},
   "outputs": [
    {
     "data": {
      "image/png": "[encoded data removed]",
      "text/plain": [
       "<Figure size 936x504 with 1 Axes>"
      ]
     },
     "metadata": {
      "needs_background": "light"
     },
     "output_type": "display_data"
    }
   ],
   "source": [
    "plt.figure(figsize=(13, 7))\n",
    "plt.grid()\n",
    "plt.plot(parametres['C'], gs_lr.cv_results_['mean_test_score'])\n",
    "plt.fill_between(parametres['C'], gs_lr.cv_results_['mean_test_score'] - gs_lr.cv_results_['std_test_score'], gs_lr.cv_results_['mean_test_score'] + gs_lr.cv_results_['std_test_score'], alpha=0.2)\n",
    "plt.show()"
   ]
  },
  {
   "cell_type": "markdown",
   "metadata": {},
   "source": [
    "____"
   ]
  },
  {
   "cell_type": "code",
   "execution_count": 229,
   "metadata": {},
   "outputs": [
    {
     "name": "stderr",
     "output_type": "stream",
     "text": [
      "/Users/gcsquar/opt/anaconda3/lib/python3.8/site-packages/sklearn/svm/_base.py:246: ConvergenceWarning: Solver terminated early (max_iter=10000).  Consider pre-processing your data with StandardScaler or MinMaxScaler.\n",
      "  warnings.warn('Solver terminated early (max_iter=%i).'\n"
     ]
    },
    {
     "data": {
      "text/plain": [
       "(0.6144658352151103, {'C': 0.0076103448275862086})"
      ]
     },
     "execution_count": 229,
     "metadata": {},
     "output_type": "execute_result"
    }
   ],
   "source": [
    "estimator = SVC(kernel='linear', max_iter=10000)\n",
    "parametres = {'C': np.linspace(0.0001, 0.0100, 30)}\n",
    "gs_svs = GridSearchCV(estimator, parametres, cv=KFold(n_splits=5), scoring='roc_auc', n_jobs=-1, refit=True)\n",
    "gs_svs.fit(X_train, y_train)\n",
    "\n",
    "gs_svs.best_score_, gs_svs.best_params_"
   ]
  },
  {
   "cell_type": "markdown",
   "metadata": {},
   "source": [
    "Тут он жалуется на то, что данные не масштабированы, но это уже следующее задание"
   ]
  },
  {
   "cell_type": "code",
   "execution_count": 230,
   "metadata": {},
   "outputs": [
    {
     "data": {
      "image/png": "[encoded data removed]",
      "text/plain": [
       "<Figure size 936x504 with 1 Axes>"
      ]
     },
     "metadata": {
      "needs_background": "light"
     },
     "output_type": "display_data"
    }
   ],
   "source": [
    "plt.figure(figsize=(13, 7))\n",
    "plt.grid()\n",
    "plt.plot(parametres['C'], gs_svs.cv_results_['mean_test_score'])\n",
    "plt.fill_between(parametres['C'], gs_svs.cv_results_['mean_test_score'] - gs_svs.cv_results_['std_test_score'], gs_svs.cv_results_['mean_test_score'] + gs_svs.cv_results_['std_test_score'], alpha=0.2)\n",
    "plt.show()"
   ]
  },
  {
   "cell_type": "markdown",
   "metadata": {},
   "source": [
    "______"
   ]
  },
  {
   "cell_type": "code",
   "execution_count": 231,
   "metadata": {},
   "outputs": [
    {
     "data": {
      "text/plain": [
       "(0.7020341150849616, {'alpha': 0.0001})"
      ]
     },
     "execution_count": 231,
     "metadata": {},
     "output_type": "execute_result"
    }
   ],
   "source": [
    "estimator = MLPClassifier(random_state=42)\n",
    "parametres = {'alpha': np.linspace(0.0001, 0.0100, 30)}\n",
    "gs_mlpc = GridSearchCV(estimator, parametres, cv=KFold(n_splits=5), scoring='roc_auc', n_jobs=-1, refit=True)\n",
    "gs_mlpc.fit(X_train, y_train)\n",
    "\n",
    "gs_mlpc.best_score_, gs_mlpc.best_params_"
   ]
  },
  {
   "cell_type": "code",
   "execution_count": 232,
   "metadata": {},
   "outputs": [
    {
     "data": {
      "image/png": "[encoded data removed]",
      "text/plain": [
       "<Figure size 936x504 with 1 Axes>"
      ]
     },
     "metadata": {
      "needs_background": "light"
     },
     "output_type": "display_data"
    }
   ],
   "source": [
    "plt.figure(figsize=(13, 7))\n",
    "plt.grid()\n",
    "plt.plot(parametres['alpha'], gs_mlpc.cv_results_['mean_test_score'])\n",
    "plt.fill_between(parametres['alpha'], gs_mlpc.cv_results_['mean_test_score'] - gs_mlpc.cv_results_['std_test_score'], gs_mlpc.cv_results_['mean_test_score'] + gs_mlpc.cv_results_['std_test_score'], alpha=0.2)\n",
    "plt.show()"
   ]
  },
  {
   "cell_type": "markdown",
   "metadata": {},
   "source": [
    "При обучении алгоритмов стоит обращать внимание не только на их качество, но и каким образом они работают с данными. В этой задаче получилось так, что некоторые из используемых алгоритмов чувствительны к масштабу признаков. Чтобы убедиться, что это могло повлиять на качество, давайте посмотрим на значения самих признаков."
   ]
  },
  {
   "cell_type": "markdown",
   "metadata": {},
   "source": [
    "**Задание 4** (1 балл) \n",
    "\n",
    "Посмотрите на значения признаков по gold и lh. В чем заключается особенность данных? На какие из рассматриваемых алгоритмов это может повлиять? Может ли масштабирование повлиять на работу этих алгоритмов?"
   ]
  },
  {
   "cell_type": "code",
   "execution_count": 233,
   "metadata": {
    "scrolled": true
   },
   "outputs": [
    {
     "data": {
      "text/html": [
       "<div>\n",
       "<style scoped>\n",
       "    .dataframe tbody tr th:only-of-type {\n",
       "        vertical-align: middle;\n",
       "    }\n",
       "\n",
       "    .dataframe tbody tr th {\n",
       "        vertical-align: top;\n",
       "    }\n",
       "\n",
       "    .dataframe thead th {\n",
       "        text-align: right;\n",
       "    }\n",
       "</style>\n",
       "<table border=\"1\" class=\"dataframe\">\n",
       "  <thead>\n",
       "    <tr style=\"text-align: right;\">\n",
       "      <th></th>\n",
       "      <th>radiant_gold_mean</th>\n",
       "      <th>radiant_gold_sum</th>\n",
       "      <th>dire_gold_mean</th>\n",
       "      <th>dire_gold_sum</th>\n",
       "      <th>radiant_lh_mean</th>\n",
       "      <th>radiant_lh_sum</th>\n",
       "      <th>dire_lh_mean</th>\n",
       "      <th>dire_lh_sum</th>\n",
       "    </tr>\n",
       "  </thead>\n",
       "  <tbody>\n",
       "    <tr>\n",
       "      <th>count</th>\n",
       "      <td>24974.000000</td>\n",
       "      <td>24974.000000</td>\n",
       "      <td>24974.000000</td>\n",
       "      <td>24974.000000</td>\n",
       "      <td>24974.000000</td>\n",
       "      <td>24974.000000</td>\n",
       "      <td>24974.000000</td>\n",
       "      <td>24974.000000</td>\n",
       "    </tr>\n",
       "    <tr>\n",
       "      <th>mean</th>\n",
       "      <td>4017.864507</td>\n",
       "      <td>20089.322535</td>\n",
       "      <td>4002.066229</td>\n",
       "      <td>20010.331144</td>\n",
       "      <td>27.006815</td>\n",
       "      <td>135.034075</td>\n",
       "      <td>26.889421</td>\n",
       "      <td>134.447105</td>\n",
       "    </tr>\n",
       "    <tr>\n",
       "      <th>std</th>\n",
       "      <td>522.813660</td>\n",
       "      <td>2614.068298</td>\n",
       "      <td>517.678318</td>\n",
       "      <td>2588.391590</td>\n",
       "      <td>5.769760</td>\n",
       "      <td>28.848798</td>\n",
       "      <td>5.948837</td>\n",
       "      <td>29.744185</td>\n",
       "    </tr>\n",
       "    <tr>\n",
       "      <th>min</th>\n",
       "      <td>2249.400000</td>\n",
       "      <td>11247.000000</td>\n",
       "      <td>2080.000000</td>\n",
       "      <td>10400.000000</td>\n",
       "      <td>5.600000</td>\n",
       "      <td>28.000000</td>\n",
       "      <td>6.800000</td>\n",
       "      <td>34.000000</td>\n",
       "    </tr>\n",
       "    <tr>\n",
       "      <th>25%</th>\n",
       "      <td>3663.250000</td>\n",
       "      <td>18316.250000</td>\n",
       "      <td>3652.450000</td>\n",
       "      <td>18262.250000</td>\n",
       "      <td>23.000000</td>\n",
       "      <td>115.000000</td>\n",
       "      <td>22.800000</td>\n",
       "      <td>114.000000</td>\n",
       "    </tr>\n",
       "    <tr>\n",
       "      <th>50%</th>\n",
       "      <td>3985.800000</td>\n",
       "      <td>19929.000000</td>\n",
       "      <td>3976.200000</td>\n",
       "      <td>19881.000000</td>\n",
       "      <td>26.800000</td>\n",
       "      <td>134.000000</td>\n",
       "      <td>26.600000</td>\n",
       "      <td>133.000000</td>\n",
       "    </tr>\n",
       "    <tr>\n",
       "      <th>75%</th>\n",
       "      <td>4333.200000</td>\n",
       "      <td>21666.000000</td>\n",
       "      <td>4309.600000</td>\n",
       "      <td>21548.000000</td>\n",
       "      <td>30.800000</td>\n",
       "      <td>154.000000</td>\n",
       "      <td>30.600000</td>\n",
       "      <td>153.000000</td>\n",
       "    </tr>\n",
       "    <tr>\n",
       "      <th>max</th>\n",
       "      <td>9414.800000</td>\n",
       "      <td>47074.000000</td>\n",
       "      <td>8596.200000</td>\n",
       "      <td>42981.000000</td>\n",
       "      <td>53.400000</td>\n",
       "      <td>267.000000</td>\n",
       "      <td>53.800000</td>\n",
       "      <td>269.000000</td>\n",
       "    </tr>\n",
       "  </tbody>\n",
       "</table>\n",
       "</div>"
      ],
      "text/plain": [
       "       radiant_gold_mean  radiant_gold_sum  dire_gold_mean  dire_gold_sum  \\\n",
       "count       24974.000000      24974.000000    24974.000000   24974.000000   \n",
       "mean         4017.864507      20089.322535     4002.066229   20010.331144   \n",
       "std           522.813660       2614.068298      517.678318    2588.391590   \n",
       "min          2249.400000      11247.000000     2080.000000   10400.000000   \n",
       "25%          3663.250000      18316.250000     3652.450000   18262.250000   \n",
       "50%          3985.800000      19929.000000     3976.200000   19881.000000   \n",
       "75%          4333.200000      21666.000000     4309.600000   21548.000000   \n",
       "max          9414.800000      47074.000000     8596.200000   42981.000000   \n",
       "\n",
       "       radiant_lh_mean  radiant_lh_sum  dire_lh_mean   dire_lh_sum  \n",
       "count     24974.000000    24974.000000  24974.000000  24974.000000  \n",
       "mean         27.006815      135.034075     26.889421    134.447105  \n",
       "std           5.769760       28.848798      5.948837     29.744185  \n",
       "min           5.600000       28.000000      6.800000     34.000000  \n",
       "25%          23.000000      115.000000     22.800000    114.000000  \n",
       "50%          26.800000      134.000000     26.600000    133.000000  \n",
       "75%          30.800000      154.000000     30.600000    153.000000  \n",
       "max          53.400000      267.000000     53.800000    269.000000  "
      ]
     },
     "execution_count": 233,
     "metadata": {},
     "output_type": "execute_result"
    }
   ],
   "source": [
    "X.describe()"
   ]
  },
  {
   "cell_type": "markdown",
   "metadata": {},
   "source": [
    "Значение по золоту на 2 порядка больше, чем по крипам, что сказывается на обучении: мы непропорционально штрафуем алгоритм, поэтому можем не сойтись к правильному решению и получить плохой результат"
   ]
  },
  {
   "cell_type": "markdown",
   "metadata": {},
   "source": [
    "Масштабирование признаков можно выполнить, например, одним из следующих способов:\n",
    " - $x_{new} = \\dfrac{x - \\mu}{\\sigma}$, где $\\mu, \\sigma$ — среднее и стандартное отклонение значения признака по всей выборке (см. функцию [scale](http://scikit-learn.org/stable/modules/generated/sklearn.preprocessing.scale.html))\n",
    " - $x_{new} = \\dfrac{x - x_{min}}{x_{max} - x_{min}}$, где $[x_{min}, x_{max}]$ — минимальный интервал значений признака\n",
    "\n",
    "Похожие схемы масштабирования приведены в классах [StandardScaler](http://scikit-learn.org/stable/modules/generated/sklearn.preprocessing.StandardScaler.html#sklearn.preprocessing.StandardScaler) и [MinMaxScaler](http://scikit-learn.org/stable/modules/generated/sklearn.preprocessing.MinMaxScaler.html#sklearn.preprocessing.MinMaxScaler).\n",
    " "
   ]
  },
  {
   "cell_type": "markdown",
   "metadata": {},
   "source": [
    "**Задание 5** (1 балл) \n",
    "\n",
    "Отмасштабируйте все вещественные признаки одним из указанных выше способов и подберите оптимальные значения гиперпараметров аналогично пункту выше.\n",
    "\n",
    "Изменилось ли качество алгоритмов и почему?"
   ]
  },
  {
   "cell_type": "code",
   "execution_count": 237,
   "metadata": {},
   "outputs": [
    {
     "data": {
      "text/plain": [
       "(0.7057944032872081, {'logisticregression__C': 0.014486206896551725})"
      ]
     },
     "execution_count": 237,
     "metadata": {},
     "output_type": "execute_result"
    }
   ],
   "source": [
    "from sklearn import preprocessing\n",
    "from sklearn.preprocessing import StandardScaler\n",
    "from sklearn.pipeline import make_pipeline\n",
    "\n",
    "pipeline_lr = make_pipeline(StandardScaler(), LogisticRegression())\n",
    "parametres = {\n",
    "    'logisticregression__C': np.linspace(0.0001, 0.0150, 30)\n",
    "}\n",
    "gs_lr_scaled = GridSearchCV(pipeline_lr, parametres, cv=KFold(n_splits=5), scoring='roc_auc', n_jobs=-1, refit=True)\n",
    "gs_lr_scaled.fit(X_train, y_train)\n",
    "\n",
    "gs_lr_scaled.best_score_, gs_lr_scaled.best_params_\n"
   ]
  },
  {
   "cell_type": "code",
   "execution_count": 238,
   "metadata": {},
   "outputs": [],
   "source": [
    "linreg_par = gs_lr_scaled.best_params_['logisticregression__C']"
   ]
  },
  {
   "cell_type": "code",
   "execution_count": 239,
   "metadata": {},
   "outputs": [
    {
     "data": {
      "image/png": "[encoded data removed]",
      "text/plain": [
       "<Figure size 936x504 with 1 Axes>"
      ]
     },
     "metadata": {
      "needs_background": "light"
     },
     "output_type": "display_data"
    }
   ],
   "source": [
    "plt.figure(figsize=(13, 7))\n",
    "plt.scatter(parametres['logisticregression__C'], gs_lr_scaled.cv_results_['mean_test_score'])\n",
    "plt.fill_between(parametres['logisticregression__C'], gs_lr_scaled.cv_results_['mean_test_score'] - gs_lr_scaled.cv_results_['std_test_score'], gs_lr_scaled.cv_results_['mean_test_score'] + gs_lr_scaled.cv_results_['std_test_score'], alpha=0.2)\n",
    "plt.show()"
   ]
  },
  {
   "cell_type": "markdown",
   "metadata": {},
   "source": [
    "_______"
   ]
  },
  {
   "cell_type": "code",
   "execution_count": 240,
   "metadata": {},
   "outputs": [
    {
     "name": "stderr",
     "output_type": "stream",
     "text": [
      "/Users/gcsquar/opt/anaconda3/lib/python3.8/site-packages/sklearn/svm/_base.py:246: ConvergenceWarning: Solver terminated early (max_iter=1000).  Consider pre-processing your data with StandardScaler or MinMaxScaler.\n",
      "  warnings.warn('Solver terminated early (max_iter=%i).'\n"
     ]
    },
    {
     "data": {
      "text/plain": [
       "(0.7000438816194267, {'svc__C': 0.0001})"
      ]
     },
     "execution_count": 240,
     "metadata": {},
     "output_type": "execute_result"
    }
   ],
   "source": [
    "pipe_svc = make_pipeline(StandardScaler(), SVC(kernel='linear', max_iter=1000))\n",
    "parametres = {\n",
    "    'svc__C': np.linspace(0.0001, 0.010, 10)\n",
    "}\n",
    "gs_svc_scaled = GridSearchCV(pipe_svc, parametres, cv=KFold(n_splits=5), scoring='roc_auc', n_jobs=-1, refit=True)\n",
    "gs_svc_scaled.fit(X_train, y_train)\n",
    "\n",
    "gs_svc_scaled.best_score_, gs_svc_scaled.best_params_\n",
    "\n"
   ]
  },
  {
   "cell_type": "code",
   "execution_count": 241,
   "metadata": {},
   "outputs": [],
   "source": [
    "svc_par = gs_svc_scaled.best_params_['svc__C']"
   ]
  },
  {
   "cell_type": "code",
   "execution_count": 242,
   "metadata": {},
   "outputs": [
    {
     "data": {
      "image/png": "[encoded data removed]",
      "text/plain": [
       "<Figure size 936x504 with 1 Axes>"
      ]
     },
     "metadata": {
      "needs_background": "light"
     },
     "output_type": "display_data"
    }
   ],
   "source": [
    "plt.figure(figsize=(13, 7))\n",
    "plt.grid()\n",
    "plt.scatter(parametres['svc__C'], gs_svc_scaled.cv_results_['mean_test_score'])\n",
    "plt.fill_between(parametres['svc__C'], gs_svc_scaled.cv_results_['mean_test_score'] - gs_svc_scaled.cv_results_['std_test_score'], gs_svc_scaled.cv_results_['mean_test_score'] + gs_svc_scaled.cv_results_['std_test_score'], alpha=0.2)\n",
    "plt.show()"
   ]
  },
  {
   "cell_type": "markdown",
   "metadata": {},
   "source": [
    "_______"
   ]
  },
  {
   "cell_type": "code",
   "execution_count": 243,
   "metadata": {},
   "outputs": [
    {
     "data": {
      "text/plain": [
       "(0.7049161078901467, {'mlpclassifier__alpha': 0.0067})"
      ]
     },
     "execution_count": 243,
     "metadata": {},
     "output_type": "execute_result"
    }
   ],
   "source": [
    "pipe_mlpc = make_pipeline(StandardScaler(), MLPClassifier(random_state=42))\n",
    "parametres = {\n",
    "    'mlpclassifier__alpha': np.linspace(0.0001, 0.010, 10)\n",
    "}\n",
    "gs_mlpc_scaled = GridSearchCV(pipe_mlpc, parametres, cv=KFold(n_splits=5), scoring='roc_auc', n_jobs=-1, refit=True)\n",
    "gs_mlpc_scaled.fit(X_train, y_train)\n",
    "\n",
    "gs_mlpc_scaled.best_score_, gs_mlpc_scaled.best_params_"
   ]
  },
  {
   "cell_type": "code",
   "execution_count": 244,
   "metadata": {},
   "outputs": [
    {
     "data": {
      "image/png": "[encoded data removed]",
      "text/plain": [
       "<Figure size 936x504 with 1 Axes>"
      ]
     },
     "metadata": {
      "needs_background": "light"
     },
     "output_type": "display_data"
    }
   ],
   "source": [
    "plt.figure(figsize=(13, 7))\n",
    "plt.scatter(parametres['mlpclassifier__alpha'], gs_mlpc_scaled.cv_results_['mean_test_score'])\n",
    "plt.fill_between(parametres['mlpclassifier__alpha'], gs_mlpc_scaled.cv_results_['mean_test_score'] - gs_mlpc_scaled.cv_results_['std_test_score'], gs_mlpc_scaled.cv_results_['mean_test_score'] + gs_mlpc_scaled.cv_results_['std_test_score'], alpha=0.2)\n",
    "plt.show()"
   ]
  },
  {
   "cell_type": "markdown",
   "metadata": {},
   "source": [
    "**Задание 6** (1.5 балла) \n",
    "\n",
    "Теперь сделайте перебор нескольких гиперпараметров по сетке и найдите оптимальные комбинации (лучшее среднее значение качества) для каждого алгоритма. Какие гиперпараметры вы настраивали? Удалось ли улучшить качество алгоритмов?"
   ]
  },
  {
   "cell_type": "code",
   "execution_count": null,
   "metadata": {},
   "outputs": [],
   "source": []
  },
  {
   "cell_type": "code",
   "execution_count": 245,
   "metadata": {},
   "outputs": [
    {
     "data": {
      "text/plain": [
       "(0.7057946043811072,\n",
       " {'logisticregression__C': 0.014486206896551725,\n",
       "  'logisticregression__l1_ratio': 0.0})"
      ]
     },
     "execution_count": 245,
     "metadata": {},
     "output_type": "execute_result"
    }
   ],
   "source": [
    "pipe_lr = make_pipeline(StandardScaler(), LogisticRegression(penalty='elasticnet', solver='saga'))\n",
    "parametres = {\n",
    "    'logisticregression__C': np.linspace(0.0001, 0.0150, 30),\n",
    "    'logisticregression__l1_ratio': np.linspace(0.0, 1.0, 10)\n",
    "}\n",
    "gs_lr_comb = GridSearchCV(pipe_lr, parametres, cv=KFold(n_splits=5), scoring='roc_auc', n_jobs=-1, refit=True)\n",
    "gs_lr_comb.fit(X_train, y_train)\n",
    "\n",
    "gs_lr_comb.best_score_, gs_lr_comb.best_params_"
   ]
  },
  {
   "cell_type": "code",
   "execution_count": 250,
   "metadata": {
    "scrolled": true
   },
   "outputs": [
    {
     "name": "stdout",
     "output_type": "stream",
     "text": [
      "LR: 0.65005005005005\n",
      "LR + scale: 0.6508508508508508\n",
      "LR + 2 params: 0.6508508508508508\n"
     ]
    }
   ],
   "source": [
    "print('LR:', gs_lr.best_estimator_.score(X_test, y_test))\n",
    "print('LR + scale:', gs_lr_scaled.best_estimator_.score(X_test, y_test))\n",
    "print('LR + 2 params:', gs_lr_comb.best_estimator_.score(X_test, y_test))"
   ]
  },
  {
   "cell_type": "code",
   "execution_count": null,
   "metadata": {},
   "outputs": [],
   "source": []
  },
  {
   "cell_type": "markdown",
   "metadata": {},
   "source": [
    "______"
   ]
  },
  {
   "cell_type": "code",
   "execution_count": 253,
   "metadata": {},
   "outputs": [
    {
     "name": "stderr",
     "output_type": "stream",
     "text": [
      "/Users/gcsquar/opt/anaconda3/lib/python3.8/site-packages/sklearn/svm/_base.py:246: ConvergenceWarning: Solver terminated early (max_iter=1000).  Consider pre-processing your data with StandardScaler or MinMaxScaler.\n",
      "  warnings.warn('Solver terminated early (max_iter=%i).'\n"
     ]
    },
    {
     "data": {
      "text/plain": [
       "(0.6775961979650234, {'svc__C': 0.0001, 'svc__gamma': 0.75025})"
      ]
     },
     "execution_count": 253,
     "metadata": {},
     "output_type": "execute_result"
    }
   ],
   "source": [
    "pipe_svc = make_pipeline(StandardScaler(), SVC(kernel='poly', max_iter=1000))\n",
    "parametres = {\n",
    "    'svc__C': np.linspace(0.0001, 0.010, 5),\n",
    "    'svc__gamma': np.linspace(0.001, 1, 5)\n",
    "}\n",
    "gs_svc_comb = GridSearchCV(pipe_svc, parametres, cv=KFold(n_splits=5), scoring='roc_auc', n_jobs=-1, refit=True)\n",
    "gs_svc_comb.fit(X_train, y_train)\n",
    "\n",
    "gs_svc_comb.best_score_, gs_svc_comb.best_params_\n",
    "\n",
    "\n"
   ]
  },
  {
   "cell_type": "code",
   "execution_count": 254,
   "metadata": {},
   "outputs": [
    {
     "name": "stdout",
     "output_type": "stream",
     "text": [
      "SVC: 0.3893893893893894\n",
      "SVC + scale: 0.5825825825825826\n",
      "SVC + 2 params: 0.5825825825825826\n"
     ]
    }
   ],
   "source": [
    "print('SVC:', gs_svs.best_estimator_.score(X_test, y_test))\n",
    "print('SVC + scale:', gs_svc_scaled.best_estimator_.score(X_test, y_test))\n",
    "print('SVC + 2 params:', gs_svc_scaled.best_estimator_.score(X_test, y_test))"
   ]
  },
  {
   "cell_type": "code",
   "execution_count": 255,
   "metadata": {},
   "outputs": [
    {
     "data": {
      "text/plain": [
       "(0.7058178939307889,\n",
       " {'mlpclassifier__activation': 'tanh', 'mlpclassifier__alpha': 0.01})"
      ]
     },
     "execution_count": 255,
     "metadata": {},
     "output_type": "execute_result"
    }
   ],
   "source": [
    "pipe_mlpc = make_pipeline(StandardScaler(), MLPClassifier(random_state=42))\n",
    "parametres = {\n",
    "    'mlpclassifier__alpha': np.linspace(0.0001, 0.010, 10),\n",
    "    'mlpclassifier__activation': ['identity', 'logistic', 'tanh', 'relu']\n",
    "    \n",
    "}\n",
    "gs_mlpc_comb = GridSearchCV(pipe_mlpc, parametres, cv=KFold(n_splits=5), scoring='roc_auc', n_jobs=-1, refit=True)\n",
    "gs_mlpc_comb.fit(X_train, y_train)\n",
    "\n",
    "gs_mlpc_comb.best_score_, gs_mlpc_comb.best_params_"
   ]
  },
  {
   "cell_type": "code",
   "execution_count": 256,
   "metadata": {},
   "outputs": [
    {
     "name": "stdout",
     "output_type": "stream",
     "text": [
      "MLP-C: 0.5245245245245245\n",
      "MLP-C + scale: 0.6466466466466466\n",
      "MLP-C + 2 params: 0.6466466466466466\n"
     ]
    }
   ],
   "source": [
    "print('MLP-C:', gs_mlpc.best_estimator_.score(X_test, y_test))\n",
    "print('MLP-C + scale:', gs_mlpc_scaled.best_estimator_.score(X_test, y_test))\n",
    "print('MLP-C + 2 params:', gs_mlpc_scaled.best_estimator_.score(X_test, y_test))"
   ]
  },
  {
   "cell_type": "markdown",
   "metadata": {},
   "source": [
    "При масштабировании результаты уличшились, с перебором гиперпараметров косяк("
   ]
  },
  {
   "cell_type": "markdown",
   "metadata": {},
   "source": [
    "### Добавление категориальных признаков в модели"
   ]
  },
  {
   "cell_type": "markdown",
   "metadata": {},
   "source": [
    "**Задание 7** (1 балл) \n",
    "\n",
    "Постройте для разных алгоритмов графики [кривых обучения](http://scikit-learn.org/stable/modules/generated/sklearn.model_selection.learning_curve.html), изображающие зависимость качества на тестовой и обучающей выборках от количества объектов, на которых обучаются модели. Посмотрите на поведение кривых и ответьте на вопросы:\n",
    "* Может ли с ростом числа объектов убывать качество на тестовой выборке? А на обучающей? Почему?\n",
    "\n",
    "Да, может: в случае переобучения качество на тестовой выборке падает, в то время, как на обучающей неубывает\n",
    "\n",
    "* Для каких целей можно использовать знание качества на обучающей части выборки?\n",
    "\n",
    "Для выявления переобучения \n",
    "\n",
    "* Какой из алгоритмов лучше обучается на меньшем числе объектов?\n",
    "\n",
    "Хороший вопрос, я не знаю\n",
    "\n",
    "* Может ли добавление новых объектов значительно повысить качество какого-то из алгоритмов или при существующем наборе данных для всех алгоритмов произошло насыщение?\n",
    "\n",
    "В данном случае для всех алгоритмов уже произошло насыщение"
   ]
  },
  {
   "cell_type": "markdown",
   "metadata": {},
   "source": [
    "Копипаст [отсюда](https://scikit-learn.org/stable/auto_examples/model_selection/plot_learning_curve.html#sphx-glr-auto-examples-model-selection-plot-learning-curve-py)"
   ]
  },
  {
   "cell_type": "code",
   "execution_count": 221,
   "metadata": {},
   "outputs": [],
   "source": [
    "from sklearn.model_selection import learning_curve\n",
    "\n",
    "def plot_learning_curve(estimator, title, X, y, cv=None, train_sizes=np.linspace(.1, 1.0, 10)):\n",
    "    train_sizes_abs, train_scores, test_scores= learning_curve(estimator, X, y, cv=KFold(n_splits=5), n_jobs=-1,  train_sizes=np.linspace(.1, 1.0, 10))\n",
    "    train_scores_mean = np.mean(train_scores, axis=1)\n",
    "    train_scores_std = np.std(train_scores, axis=1)\n",
    "    test_scores_mean = np.mean(test_scores, axis=1)\n",
    "    test_scores_std = np.std(test_scores, axis=1)\n",
    "\n",
    "    plt.figure(figsize=(13, 7))\n",
    "    plt.title(title)\n",
    "    plt.xlabel(\"Training examples\")\n",
    "    plt.ylabel(\"Score\")\n",
    "    plt.grid()\n",
    "    plt.fill_between(train_sizes, train_scores_mean - train_scores_std, train_scores_mean + train_scores_std, alpha=0.1, color=\"r\")\n",
    "    plt.fill_between(train_sizes, test_scores_mean - test_scores_std, test_scores_mean + test_scores_std, alpha=0.1, color=\"g\")\n",
    "    plt.plot(train_sizes, train_scores_mean, 'o-', color=\"r\", label=\"Training score\")\n",
    "    plt.plot(train_sizes, test_scores_mean, 'o-', color=\"g\", label=\"Cross-validation score\")\n",
    "    plt.legend(loc=\"best\")\n",
    "\n",
    "    return plt"
   ]
  },
  {
   "cell_type": "code",
   "execution_count": null,
   "metadata": {},
   "outputs": [],
   "source": [
    "\n"
   ]
  },
  {
   "cell_type": "code",
   "execution_count": 222,
   "metadata": {},
   "outputs": [
    {
     "data": {
      "text/plain": [
       "<module 'matplotlib.pyplot' from '/Users/gcsquar/opt/anaconda3/lib/python3.8/site-packages/matplotlib/pyplot.py'>"
      ]
     },
     "execution_count": 222,
     "metadata": {},
     "output_type": "execute_result"
    },
    {
     "data": {
      "image/png": "[encoded data removed]",
      "text/plain": [
       "<Figure size 936x504 with 1 Axes>"
      ]
     },
     "metadata": {
      "needs_background": "light"
     },
     "output_type": "display_data"
    }
   ],
   "source": [
    "pipeline_lr = make_pipeline(StandardScaler(), LogisticRegression(C=linreg_par))\n",
    "plot_learning_curve(pipeline_lr, \"Logistic regression\", X, Y, cv=KFold(n_splits=5))"
   ]
  },
  {
   "cell_type": "code",
   "execution_count": 223,
   "metadata": {},
   "outputs": [
    {
     "data": {
      "text/plain": [
       "<module 'matplotlib.pyplot' from '/Users/gcsquar/opt/anaconda3/lib/python3.8/site-packages/matplotlib/pyplot.py'>"
      ]
     },
     "execution_count": 223,
     "metadata": {},
     "output_type": "execute_result"
    },
    {
     "data": {
      "image/png": "[encoded data removed]",
      "text/plain": [
       "<Figure size 936x504 with 1 Axes>"
      ]
     },
     "metadata": {
      "needs_background": "light"
     },
     "output_type": "display_data"
    }
   ],
   "source": [
    "pipeline_csv = make_pipeline(StandardScaler(), SVC(C=svc_par, max_iter=1000))\n",
    "plot_learning_curve(pipeline_csv, \"C-SVC\", X, Y, cv=KFold(n_splits=5))"
   ]
  },
  {
   "cell_type": "code",
   "execution_count": 224,
   "metadata": {},
   "outputs": [
    {
     "data": {
      "text/plain": [
       "<module 'matplotlib.pyplot' from '/Users/gcsquar/opt/anaconda3/lib/python3.8/site-packages/matplotlib/pyplot.py'>"
      ]
     },
     "execution_count": 224,
     "metadata": {},
     "output_type": "execute_result"
    },
    {
     "data": {
      "image/png": "[encoded data removed]",
      "text/plain": [
       "<Figure size 936x504 with 1 Axes>"
      ]
     },
     "metadata": {
      "needs_background": "light"
     },
     "output_type": "display_data"
    }
   ],
   "source": [
    "pipeline_mlpc = make_pipeline(StandardScaler(), MLPClassifier(activation='tanh', alpha=0.01))\n",
    "plot_learning_curve(pipeline_mlpc, \"MLP-C\", X, Y, cv=KFold(n_splits=5))"
   ]
  },
  {
   "cell_type": "markdown",
   "metadata": {},
   "source": [
    "После выполнения данного блока вы получите решение, которое можно отправить в соревнование на [kaggle](https://www.kaggle.com/t/f2f20fc510f042dfa9751a03c6108805). \n",
    "\n",
    "Будьте внимательными, для части матчей из test.csv отсутствуют некоторые данные, для этих матчей все равно требуется что-то предсказать."
   ]
  },
  {
   "cell_type": "code",
   "execution_count": null,
   "metadata": {},
   "outputs": [],
   "source": []
  },
  {
   "cell_type": "markdown",
   "metadata": {},
   "source": [
    " "
   ]
  },
  {
   "cell_type": "markdown",
   "metadata": {},
   "source": [
    "Пока мы не использовали нечисловые признаки, которые есть в датасете. Давайте посмотрим, правильно ли мы сделали и увеличится ли качество моделей после добавлениях этих признаков. \n",
    "\n",
    "**Задание 8** (1 балл) \n",
    "\n",
    "Преобразуйте все категориальные признаки с помощью метода one-hot-encoding (например, это можно сделать с помощью функции [pandas.get_dummies](http://pandas.pydata.org/pandas-docs/stable/generated/pandas.get_dummies.html) или [DictVectorizer](http://scikit-learn.org/stable/modules/generated/sklearn.feature_extraction.DictVectorizer.html) / [OneHotEncoder](http://scikit-learn.org/stable/modules/generated/sklearn.preprocessing.OneHotEncoder.html) из sklearn). Это задание предлагается делать с использованием *heroes.csv*. Представьте каждую из команд в виде one-hot-encoded вектора с пятью единицами и остальными нулями."
   ]
  },
  {
   "cell_type": "code",
   "execution_count": 166,
   "metadata": {},
   "outputs": [
    {
     "data": {
      "text/html": [
       "<div>\n",
       "<style scoped>\n",
       "    .dataframe tbody tr th:only-of-type {\n",
       "        vertical-align: middle;\n",
       "    }\n",
       "\n",
       "    .dataframe tbody tr th {\n",
       "        vertical-align: top;\n",
       "    }\n",
       "\n",
       "    .dataframe thead th {\n",
       "        text-align: right;\n",
       "    }\n",
       "</style>\n",
       "<table border=\"1\" class=\"dataframe\">\n",
       "  <thead>\n",
       "    <tr style=\"text-align: right;\">\n",
       "      <th></th>\n",
       "      <th>player_0</th>\n",
       "      <th>player_1</th>\n",
       "      <th>player_2</th>\n",
       "      <th>player_3</th>\n",
       "      <th>player_4</th>\n",
       "      <th>player_5</th>\n",
       "      <th>player_6</th>\n",
       "      <th>player_7</th>\n",
       "      <th>player_8</th>\n",
       "      <th>player_9</th>\n",
       "    </tr>\n",
       "    <tr>\n",
       "      <th>mid</th>\n",
       "      <th></th>\n",
       "      <th></th>\n",
       "      <th></th>\n",
       "      <th></th>\n",
       "      <th></th>\n",
       "      <th></th>\n",
       "      <th></th>\n",
       "      <th></th>\n",
       "      <th></th>\n",
       "      <th></th>\n",
       "    </tr>\n",
       "  </thead>\n",
       "  <tbody>\n",
       "    <tr>\n",
       "      <th>0</th>\n",
       "      <td>91</td>\n",
       "      <td>42</td>\n",
       "      <td>87</td>\n",
       "      <td>15</td>\n",
       "      <td>65</td>\n",
       "      <td>11</td>\n",
       "      <td>6</td>\n",
       "      <td>34</td>\n",
       "      <td>69</td>\n",
       "      <td>74</td>\n",
       "    </tr>\n",
       "    <tr>\n",
       "      <th>1</th>\n",
       "      <td>69</td>\n",
       "      <td>85</td>\n",
       "      <td>71</td>\n",
       "      <td>24</td>\n",
       "      <td>64</td>\n",
       "      <td>74</td>\n",
       "      <td>68</td>\n",
       "      <td>39</td>\n",
       "      <td>65</td>\n",
       "      <td>11</td>\n",
       "    </tr>\n",
       "    <tr>\n",
       "      <th>2</th>\n",
       "      <td>17</td>\n",
       "      <td>40</td>\n",
       "      <td>31</td>\n",
       "      <td>67</td>\n",
       "      <td>99</td>\n",
       "      <td>32</td>\n",
       "      <td>7</td>\n",
       "      <td>72</td>\n",
       "      <td>48</td>\n",
       "      <td>104</td>\n",
       "    </tr>\n",
       "    <tr>\n",
       "      <th>3</th>\n",
       "      <td>80</td>\n",
       "      <td>43</td>\n",
       "      <td>101</td>\n",
       "      <td>71</td>\n",
       "      <td>94</td>\n",
       "      <td>69</td>\n",
       "      <td>70</td>\n",
       "      <td>98</td>\n",
       "      <td>24</td>\n",
       "      <td>39</td>\n",
       "    </tr>\n",
       "    <tr>\n",
       "      <th>4</th>\n",
       "      <td>25</td>\n",
       "      <td>15</td>\n",
       "      <td>75</td>\n",
       "      <td>29</td>\n",
       "      <td>95</td>\n",
       "      <td>3</td>\n",
       "      <td>32</td>\n",
       "      <td>55</td>\n",
       "      <td>64</td>\n",
       "      <td>86</td>\n",
       "    </tr>\n",
       "  </tbody>\n",
       "</table>\n",
       "</div>"
      ],
      "text/plain": [
       "     player_0  player_1  player_2  player_3  player_4  player_5  player_6  \\\n",
       "mid                                                                         \n",
       "0          91        42        87        15        65        11         6   \n",
       "1          69        85        71        24        64        74        68   \n",
       "2          17        40        31        67        99        32         7   \n",
       "3          80        43       101        71        94        69        70   \n",
       "4          25        15        75        29        95         3        32   \n",
       "\n",
       "     player_7  player_8  player_9  \n",
       "mid                                \n",
       "0          34        69        74  \n",
       "1          39        65        11  \n",
       "2          72        48       104  \n",
       "3          98        24        39  \n",
       "4          55        64        86  "
      ]
     },
     "execution_count": 166,
     "metadata": {},
     "output_type": "execute_result"
    }
   ],
   "source": [
    "df_heroes = pd.read_csv('heroes.csv')\n",
    "df_heroes.set_index('mid', inplace=True)\n",
    "\n",
    "df_heroes.head()"
   ]
  },
  {
   "cell_type": "code",
   "execution_count": 171,
   "metadata": {},
   "outputs": [
    {
     "data": {
      "text/plain": [
       "Index(['player_0', 'player_1', 'player_2', 'player_3', 'player_4', 'player_5',\n",
       "       'player_6', 'player_7', 'player_8', 'player_9'],\n",
       "      dtype='object')"
      ]
     },
     "execution_count": 171,
     "metadata": {},
     "output_type": "execute_result"
    }
   ],
   "source": [
    "df_heroes.columns"
   ]
  },
  {
   "cell_type": "code",
   "execution_count": 172,
   "metadata": {},
   "outputs": [
    {
     "data": {
      "text/html": [
       "<div>\n",
       "<style scoped>\n",
       "    .dataframe tbody tr th:only-of-type {\n",
       "        vertical-align: middle;\n",
       "    }\n",
       "\n",
       "    .dataframe tbody tr th {\n",
       "        vertical-align: top;\n",
       "    }\n",
       "\n",
       "    .dataframe thead th {\n",
       "        text-align: right;\n",
       "    }\n",
       "</style>\n",
       "<table border=\"1\" class=\"dataframe\">\n",
       "  <thead>\n",
       "    <tr style=\"text-align: right;\">\n",
       "      <th></th>\n",
       "      <th>player_0_0</th>\n",
       "      <th>player_0_1</th>\n",
       "      <th>player_0_2</th>\n",
       "      <th>player_0_3</th>\n",
       "      <th>player_0_4</th>\n",
       "      <th>player_0_5</th>\n",
       "      <th>player_0_6</th>\n",
       "      <th>player_0_7</th>\n",
       "      <th>player_0_8</th>\n",
       "      <th>player_0_9</th>\n",
       "      <th>...</th>\n",
       "      <th>player_9_101</th>\n",
       "      <th>player_9_102</th>\n",
       "      <th>player_9_103</th>\n",
       "      <th>player_9_104</th>\n",
       "      <th>player_9_105</th>\n",
       "      <th>player_9_106</th>\n",
       "      <th>player_9_107</th>\n",
       "      <th>player_9_108</th>\n",
       "      <th>player_9_109</th>\n",
       "      <th>player_9_110</th>\n",
       "    </tr>\n",
       "    <tr>\n",
       "      <th>mid</th>\n",
       "      <th></th>\n",
       "      <th></th>\n",
       "      <th></th>\n",
       "      <th></th>\n",
       "      <th></th>\n",
       "      <th></th>\n",
       "      <th></th>\n",
       "      <th></th>\n",
       "      <th></th>\n",
       "      <th></th>\n",
       "      <th></th>\n",
       "      <th></th>\n",
       "      <th></th>\n",
       "      <th></th>\n",
       "      <th></th>\n",
       "      <th></th>\n",
       "      <th></th>\n",
       "      <th></th>\n",
       "      <th></th>\n",
       "      <th></th>\n",
       "      <th></th>\n",
       "    </tr>\n",
       "  </thead>\n",
       "  <tbody>\n",
       "    <tr>\n",
       "      <th>0</th>\n",
       "      <td>0</td>\n",
       "      <td>0</td>\n",
       "      <td>0</td>\n",
       "      <td>0</td>\n",
       "      <td>0</td>\n",
       "      <td>0</td>\n",
       "      <td>0</td>\n",
       "      <td>0</td>\n",
       "      <td>0</td>\n",
       "      <td>0</td>\n",
       "      <td>...</td>\n",
       "      <td>0</td>\n",
       "      <td>0</td>\n",
       "      <td>0</td>\n",
       "      <td>0</td>\n",
       "      <td>0</td>\n",
       "      <td>0</td>\n",
       "      <td>0</td>\n",
       "      <td>0</td>\n",
       "      <td>0</td>\n",
       "      <td>0</td>\n",
       "    </tr>\n",
       "    <tr>\n",
       "      <th>1</th>\n",
       "      <td>0</td>\n",
       "      <td>0</td>\n",
       "      <td>0</td>\n",
       "      <td>0</td>\n",
       "      <td>0</td>\n",
       "      <td>0</td>\n",
       "      <td>0</td>\n",
       "      <td>0</td>\n",
       "      <td>0</td>\n",
       "      <td>0</td>\n",
       "      <td>...</td>\n",
       "      <td>0</td>\n",
       "      <td>0</td>\n",
       "      <td>0</td>\n",
       "      <td>0</td>\n",
       "      <td>0</td>\n",
       "      <td>0</td>\n",
       "      <td>0</td>\n",
       "      <td>0</td>\n",
       "      <td>0</td>\n",
       "      <td>0</td>\n",
       "    </tr>\n",
       "    <tr>\n",
       "      <th>2</th>\n",
       "      <td>0</td>\n",
       "      <td>0</td>\n",
       "      <td>0</td>\n",
       "      <td>0</td>\n",
       "      <td>0</td>\n",
       "      <td>0</td>\n",
       "      <td>0</td>\n",
       "      <td>0</td>\n",
       "      <td>0</td>\n",
       "      <td>0</td>\n",
       "      <td>...</td>\n",
       "      <td>0</td>\n",
       "      <td>0</td>\n",
       "      <td>0</td>\n",
       "      <td>1</td>\n",
       "      <td>0</td>\n",
       "      <td>0</td>\n",
       "      <td>0</td>\n",
       "      <td>0</td>\n",
       "      <td>0</td>\n",
       "      <td>0</td>\n",
       "    </tr>\n",
       "    <tr>\n",
       "      <th>3</th>\n",
       "      <td>0</td>\n",
       "      <td>0</td>\n",
       "      <td>0</td>\n",
       "      <td>0</td>\n",
       "      <td>0</td>\n",
       "      <td>0</td>\n",
       "      <td>0</td>\n",
       "      <td>0</td>\n",
       "      <td>0</td>\n",
       "      <td>0</td>\n",
       "      <td>...</td>\n",
       "      <td>0</td>\n",
       "      <td>0</td>\n",
       "      <td>0</td>\n",
       "      <td>0</td>\n",
       "      <td>0</td>\n",
       "      <td>0</td>\n",
       "      <td>0</td>\n",
       "      <td>0</td>\n",
       "      <td>0</td>\n",
       "      <td>0</td>\n",
       "    </tr>\n",
       "    <tr>\n",
       "      <th>4</th>\n",
       "      <td>0</td>\n",
       "      <td>0</td>\n",
       "      <td>0</td>\n",
       "      <td>0</td>\n",
       "      <td>0</td>\n",
       "      <td>0</td>\n",
       "      <td>0</td>\n",
       "      <td>0</td>\n",
       "      <td>0</td>\n",
       "      <td>0</td>\n",
       "      <td>...</td>\n",
       "      <td>0</td>\n",
       "      <td>0</td>\n",
       "      <td>0</td>\n",
       "      <td>0</td>\n",
       "      <td>0</td>\n",
       "      <td>0</td>\n",
       "      <td>0</td>\n",
       "      <td>0</td>\n",
       "      <td>0</td>\n",
       "      <td>0</td>\n",
       "    </tr>\n",
       "  </tbody>\n",
       "</table>\n",
       "<p>5 rows × 1110 columns</p>\n",
       "</div>"
      ],
      "text/plain": [
       "     player_0_0  player_0_1  player_0_2  player_0_3  player_0_4  player_0_5  \\\n",
       "mid                                                                           \n",
       "0             0           0           0           0           0           0   \n",
       "1             0           0           0           0           0           0   \n",
       "2             0           0           0           0           0           0   \n",
       "3             0           0           0           0           0           0   \n",
       "4             0           0           0           0           0           0   \n",
       "\n",
       "     player_0_6  player_0_7  player_0_8  player_0_9  ...  player_9_101  \\\n",
       "mid                                                  ...                 \n",
       "0             0           0           0           0  ...             0   \n",
       "1             0           0           0           0  ...             0   \n",
       "2             0           0           0           0  ...             0   \n",
       "3             0           0           0           0  ...             0   \n",
       "4             0           0           0           0  ...             0   \n",
       "\n",
       "     player_9_102  player_9_103  player_9_104  player_9_105  player_9_106  \\\n",
       "mid                                                                         \n",
       "0               0             0             0             0             0   \n",
       "1               0             0             0             0             0   \n",
       "2               0             0             1             0             0   \n",
       "3               0             0             0             0             0   \n",
       "4               0             0             0             0             0   \n",
       "\n",
       "     player_9_107  player_9_108  player_9_109  player_9_110  \n",
       "mid                                                          \n",
       "0               0             0             0             0  \n",
       "1               0             0             0             0  \n",
       "2               0             0             0             0  \n",
       "3               0             0             0             0  \n",
       "4               0             0             0             0  \n",
       "\n",
       "[5 rows x 1110 columns]"
      ]
     },
     "execution_count": 172,
     "metadata": {},
     "output_type": "execute_result"
    }
   ],
   "source": [
    "df_heroes_got_dum = pd.get_dummies(df_heroes, columns=df_heroes.columns)\n",
    "df_heroes_got_dum.head()"
   ]
  },
  {
   "cell_type": "markdown",
   "metadata": {},
   "source": [
    "После кодирования признаков получилось достаточно много и правильно будет заново подобрать оптимальные гиперпараметры для моделей. \n",
    "\n",
    "**Задание 9** (1 балл)\n",
    "\n",
    "Добавьте к масштабированным вещественным признакам закодированные категориальные и подберите гиперпараметры заново. Дало ли добавление новых признаков прирост качества? Измеряйте качество, как и раньше, используя 5-Fold CV. Для этого удобно воспользоваться функцией [cross_val_score](http://scikit-learn.org/stable/modules/generated/sklearn.cross_validation.cross_val_score.html#sklearn.cross_validation.cross_val_score).\n",
    "\n",
    "Отличается ли теперь наилучший классификатор от наилучшего в предыдущем пункте?\n",
    "\n",
    "One-hot encoding значительно увеличил количество входных данных. \n",
    "\n",
    "Как изменилось количество параметров у моделей? Наблюдается ли переобучение?"
   ]
  },
  {
   "cell_type": "code",
   "execution_count": 183,
   "metadata": {},
   "outputs": [
    {
     "name": "stderr",
     "output_type": "stream",
     "text": [
      "/Users/gcsquar/opt/anaconda3/lib/python3.8/site-packages/pandas/core/indexing.py:1736: SettingWithCopyWarning: \n",
      "A value is trying to be set on a copy of a slice from a DataFrame.\n",
      "Try using .loc[row_indexer,col_indexer] = value instead\n",
      "\n",
      "See the caveats in the documentation: https://pandas.pydata.org/pandas-docs/stable/user_guide/indexing.html#returning-a-view-versus-a-copy\n",
      "  isetter(loc, value[:, i].tolist())\n"
     ]
    },
    {
     "data": {
      "text/html": [
       "<div>\n",
       "<style scoped>\n",
       "    .dataframe tbody tr th:only-of-type {\n",
       "        vertical-align: middle;\n",
       "    }\n",
       "\n",
       "    .dataframe tbody tr th {\n",
       "        vertical-align: top;\n",
       "    }\n",
       "\n",
       "    .dataframe thead th {\n",
       "        text-align: right;\n",
       "    }\n",
       "</style>\n",
       "<table border=\"1\" class=\"dataframe\">\n",
       "  <thead>\n",
       "    <tr style=\"text-align: right;\">\n",
       "      <th></th>\n",
       "      <th>radiant_gold_mean</th>\n",
       "      <th>radiant_gold_sum</th>\n",
       "      <th>dire_gold_mean</th>\n",
       "      <th>dire_gold_sum</th>\n",
       "      <th>radiant_lh_mean</th>\n",
       "      <th>radiant_lh_sum</th>\n",
       "      <th>dire_lh_mean</th>\n",
       "      <th>dire_lh_sum</th>\n",
       "    </tr>\n",
       "    <tr>\n",
       "      <th>mid</th>\n",
       "      <th></th>\n",
       "      <th></th>\n",
       "      <th></th>\n",
       "      <th></th>\n",
       "      <th></th>\n",
       "      <th></th>\n",
       "      <th></th>\n",
       "      <th></th>\n",
       "    </tr>\n",
       "  </thead>\n",
       "  <tbody>\n",
       "    <tr>\n",
       "      <th>0</th>\n",
       "      <td>0.522062</td>\n",
       "      <td>0.522062</td>\n",
       "      <td>0.805408</td>\n",
       "      <td>0.805408</td>\n",
       "      <td>0.449453</td>\n",
       "      <td>0.449453</td>\n",
       "      <td>1.934968</td>\n",
       "      <td>1.934968</td>\n",
       "    </tr>\n",
       "    <tr>\n",
       "      <th>1</th>\n",
       "      <td>0.794057</td>\n",
       "      <td>0.794057</td>\n",
       "      <td>1.748483</td>\n",
       "      <td>1.748483</td>\n",
       "      <td>0.761431</td>\n",
       "      <td>0.761431</td>\n",
       "      <td>0.321175</td>\n",
       "      <td>0.321175</td>\n",
       "    </tr>\n",
       "    <tr>\n",
       "      <th>2</th>\n",
       "      <td>0.498343</td>\n",
       "      <td>0.498343</td>\n",
       "      <td>-1.724013</td>\n",
       "      <td>-1.724013</td>\n",
       "      <td>1.350722</td>\n",
       "      <td>1.350722</td>\n",
       "      <td>-1.191756</td>\n",
       "      <td>-1.191756</td>\n",
       "    </tr>\n",
       "    <tr>\n",
       "      <th>4</th>\n",
       "      <td>-0.784740</td>\n",
       "      <td>-0.784740</td>\n",
       "      <td>-0.976043</td>\n",
       "      <td>-0.976043</td>\n",
       "      <td>0.276132</td>\n",
       "      <td>0.276132</td>\n",
       "      <td>-1.124515</td>\n",
       "      <td>-1.124515</td>\n",
       "    </tr>\n",
       "    <tr>\n",
       "      <th>5</th>\n",
       "      <td>-1.557880</td>\n",
       "      <td>-1.557880</td>\n",
       "      <td>0.784545</td>\n",
       "      <td>0.784545</td>\n",
       "      <td>-1.353084</td>\n",
       "      <td>-1.353084</td>\n",
       "      <td>0.354796</td>\n",
       "      <td>0.354796</td>\n",
       "    </tr>\n",
       "    <tr>\n",
       "      <th>...</th>\n",
       "      <td>...</td>\n",
       "      <td>...</td>\n",
       "      <td>...</td>\n",
       "      <td>...</td>\n",
       "      <td>...</td>\n",
       "      <td>...</td>\n",
       "      <td>...</td>\n",
       "      <td>...</td>\n",
       "    </tr>\n",
       "    <tr>\n",
       "      <th>49939</th>\n",
       "      <td>0.591686</td>\n",
       "      <td>0.591686</td>\n",
       "      <td>0.346426</td>\n",
       "      <td>0.346426</td>\n",
       "      <td>1.108073</td>\n",
       "      <td>1.108073</td>\n",
       "      <td>-0.149515</td>\n",
       "      <td>-0.149515</td>\n",
       "    </tr>\n",
       "    <tr>\n",
       "      <th>49940</th>\n",
       "      <td>2.571399</td>\n",
       "      <td>2.571399</td>\n",
       "      <td>-1.045199</td>\n",
       "      <td>-1.045199</td>\n",
       "      <td>1.454714</td>\n",
       "      <td>1.454714</td>\n",
       "      <td>0.691003</td>\n",
       "      <td>0.691003</td>\n",
       "    </tr>\n",
       "    <tr>\n",
       "      <th>49941</th>\n",
       "      <td>0.280671</td>\n",
       "      <td>0.280671</td>\n",
       "      <td>0.966129</td>\n",
       "      <td>0.966129</td>\n",
       "      <td>1.766692</td>\n",
       "      <td>1.766692</td>\n",
       "      <td>-0.183135</td>\n",
       "      <td>-0.183135</td>\n",
       "    </tr>\n",
       "    <tr>\n",
       "      <th>49945</th>\n",
       "      <td>-1.175327</td>\n",
       "      <td>-1.175327</td>\n",
       "      <td>-0.712940</td>\n",
       "      <td>-0.712940</td>\n",
       "      <td>-0.347823</td>\n",
       "      <td>-0.347823</td>\n",
       "      <td>-0.283998</td>\n",
       "      <td>-0.283998</td>\n",
       "    </tr>\n",
       "    <tr>\n",
       "      <th>49946</th>\n",
       "      <td>-0.308461</td>\n",
       "      <td>-0.308461</td>\n",
       "      <td>1.870956</td>\n",
       "      <td>1.870956</td>\n",
       "      <td>-1.422413</td>\n",
       "      <td>-1.422413</td>\n",
       "      <td>1.262554</td>\n",
       "      <td>1.262554</td>\n",
       "    </tr>\n",
       "  </tbody>\n",
       "</table>\n",
       "<p>24974 rows × 8 columns</p>\n",
       "</div>"
      ],
      "text/plain": [
       "       radiant_gold_mean  radiant_gold_sum  dire_gold_mean  dire_gold_sum  \\\n",
       "mid                                                                         \n",
       "0               0.522062          0.522062        0.805408       0.805408   \n",
       "1               0.794057          0.794057        1.748483       1.748483   \n",
       "2               0.498343          0.498343       -1.724013      -1.724013   \n",
       "4              -0.784740         -0.784740       -0.976043      -0.976043   \n",
       "5              -1.557880         -1.557880        0.784545       0.784545   \n",
       "...                  ...               ...             ...            ...   \n",
       "49939           0.591686          0.591686        0.346426       0.346426   \n",
       "49940           2.571399          2.571399       -1.045199      -1.045199   \n",
       "49941           0.280671          0.280671        0.966129       0.966129   \n",
       "49945          -1.175327         -1.175327       -0.712940      -0.712940   \n",
       "49946          -0.308461         -0.308461        1.870956       1.870956   \n",
       "\n",
       "       radiant_lh_mean  radiant_lh_sum  dire_lh_mean  dire_lh_sum  \n",
       "mid                                                                \n",
       "0             0.449453        0.449453      1.934968     1.934968  \n",
       "1             0.761431        0.761431      0.321175     0.321175  \n",
       "2             1.350722        1.350722     -1.191756    -1.191756  \n",
       "4             0.276132        0.276132     -1.124515    -1.124515  \n",
       "5            -1.353084       -1.353084      0.354796     0.354796  \n",
       "...                ...             ...           ...          ...  \n",
       "49939         1.108073        1.108073     -0.149515    -0.149515  \n",
       "49940         1.454714        1.454714      0.691003     0.691003  \n",
       "49941         1.766692        1.766692     -0.183135    -0.183135  \n",
       "49945        -0.347823       -0.347823     -0.283998    -0.283998  \n",
       "49946        -1.422413       -1.422413      1.262554     1.262554  \n",
       "\n",
       "[24974 rows x 8 columns]"
      ]
     },
     "execution_count": 183,
     "metadata": {},
     "output_type": "execute_result"
    }
   ],
   "source": [
    "scaler = StandardScaler()\n",
    "X_scaled = X\n",
    "X_scaled.loc[:, X_scaled.columns] = scaler.fit_transform(X_scaled.loc[:, X_scaled.columns])\n",
    "X_scaled"
   ]
  },
  {
   "cell_type": "code",
   "execution_count": 184,
   "metadata": {},
   "outputs": [
    {
     "data": {
      "text/html": [
       "<div>\n",
       "<style scoped>\n",
       "    .dataframe tbody tr th:only-of-type {\n",
       "        vertical-align: middle;\n",
       "    }\n",
       "\n",
       "    .dataframe tbody tr th {\n",
       "        vertical-align: top;\n",
       "    }\n",
       "\n",
       "    .dataframe thead th {\n",
       "        text-align: right;\n",
       "    }\n",
       "</style>\n",
       "<table border=\"1\" class=\"dataframe\">\n",
       "  <thead>\n",
       "    <tr style=\"text-align: right;\">\n",
       "      <th></th>\n",
       "      <th>radiant_gold_mean</th>\n",
       "      <th>radiant_gold_sum</th>\n",
       "      <th>dire_gold_mean</th>\n",
       "      <th>dire_gold_sum</th>\n",
       "      <th>radiant_lh_mean</th>\n",
       "      <th>radiant_lh_sum</th>\n",
       "      <th>dire_lh_mean</th>\n",
       "      <th>dire_lh_sum</th>\n",
       "      <th>player_0_0</th>\n",
       "      <th>player_0_1</th>\n",
       "      <th>...</th>\n",
       "      <th>player_9_101</th>\n",
       "      <th>player_9_102</th>\n",
       "      <th>player_9_103</th>\n",
       "      <th>player_9_104</th>\n",
       "      <th>player_9_105</th>\n",
       "      <th>player_9_106</th>\n",
       "      <th>player_9_107</th>\n",
       "      <th>player_9_108</th>\n",
       "      <th>player_9_109</th>\n",
       "      <th>player_9_110</th>\n",
       "    </tr>\n",
       "    <tr>\n",
       "      <th>mid</th>\n",
       "      <th></th>\n",
       "      <th></th>\n",
       "      <th></th>\n",
       "      <th></th>\n",
       "      <th></th>\n",
       "      <th></th>\n",
       "      <th></th>\n",
       "      <th></th>\n",
       "      <th></th>\n",
       "      <th></th>\n",
       "      <th></th>\n",
       "      <th></th>\n",
       "      <th></th>\n",
       "      <th></th>\n",
       "      <th></th>\n",
       "      <th></th>\n",
       "      <th></th>\n",
       "      <th></th>\n",
       "      <th></th>\n",
       "      <th></th>\n",
       "      <th></th>\n",
       "    </tr>\n",
       "  </thead>\n",
       "  <tbody>\n",
       "    <tr>\n",
       "      <th>0</th>\n",
       "      <td>0.522062</td>\n",
       "      <td>0.522062</td>\n",
       "      <td>0.805408</td>\n",
       "      <td>0.805408</td>\n",
       "      <td>0.449453</td>\n",
       "      <td>0.449453</td>\n",
       "      <td>1.934968</td>\n",
       "      <td>1.934968</td>\n",
       "      <td>0</td>\n",
       "      <td>0</td>\n",
       "      <td>...</td>\n",
       "      <td>0</td>\n",
       "      <td>0</td>\n",
       "      <td>0</td>\n",
       "      <td>0</td>\n",
       "      <td>0</td>\n",
       "      <td>0</td>\n",
       "      <td>0</td>\n",
       "      <td>0</td>\n",
       "      <td>0</td>\n",
       "      <td>0</td>\n",
       "    </tr>\n",
       "    <tr>\n",
       "      <th>1</th>\n",
       "      <td>0.794057</td>\n",
       "      <td>0.794057</td>\n",
       "      <td>1.748483</td>\n",
       "      <td>1.748483</td>\n",
       "      <td>0.761431</td>\n",
       "      <td>0.761431</td>\n",
       "      <td>0.321175</td>\n",
       "      <td>0.321175</td>\n",
       "      <td>0</td>\n",
       "      <td>0</td>\n",
       "      <td>...</td>\n",
       "      <td>0</td>\n",
       "      <td>0</td>\n",
       "      <td>0</td>\n",
       "      <td>0</td>\n",
       "      <td>0</td>\n",
       "      <td>0</td>\n",
       "      <td>0</td>\n",
       "      <td>0</td>\n",
       "      <td>0</td>\n",
       "      <td>0</td>\n",
       "    </tr>\n",
       "    <tr>\n",
       "      <th>2</th>\n",
       "      <td>0.498343</td>\n",
       "      <td>0.498343</td>\n",
       "      <td>-1.724013</td>\n",
       "      <td>-1.724013</td>\n",
       "      <td>1.350722</td>\n",
       "      <td>1.350722</td>\n",
       "      <td>-1.191756</td>\n",
       "      <td>-1.191756</td>\n",
       "      <td>0</td>\n",
       "      <td>0</td>\n",
       "      <td>...</td>\n",
       "      <td>0</td>\n",
       "      <td>0</td>\n",
       "      <td>0</td>\n",
       "      <td>1</td>\n",
       "      <td>0</td>\n",
       "      <td>0</td>\n",
       "      <td>0</td>\n",
       "      <td>0</td>\n",
       "      <td>0</td>\n",
       "      <td>0</td>\n",
       "    </tr>\n",
       "    <tr>\n",
       "      <th>4</th>\n",
       "      <td>-0.784740</td>\n",
       "      <td>-0.784740</td>\n",
       "      <td>-0.976043</td>\n",
       "      <td>-0.976043</td>\n",
       "      <td>0.276132</td>\n",
       "      <td>0.276132</td>\n",
       "      <td>-1.124515</td>\n",
       "      <td>-1.124515</td>\n",
       "      <td>0</td>\n",
       "      <td>0</td>\n",
       "      <td>...</td>\n",
       "      <td>0</td>\n",
       "      <td>0</td>\n",
       "      <td>0</td>\n",
       "      <td>0</td>\n",
       "      <td>0</td>\n",
       "      <td>0</td>\n",
       "      <td>0</td>\n",
       "      <td>0</td>\n",
       "      <td>0</td>\n",
       "      <td>0</td>\n",
       "    </tr>\n",
       "    <tr>\n",
       "      <th>5</th>\n",
       "      <td>-1.557880</td>\n",
       "      <td>-1.557880</td>\n",
       "      <td>0.784545</td>\n",
       "      <td>0.784545</td>\n",
       "      <td>-1.353084</td>\n",
       "      <td>-1.353084</td>\n",
       "      <td>0.354796</td>\n",
       "      <td>0.354796</td>\n",
       "      <td>0</td>\n",
       "      <td>0</td>\n",
       "      <td>...</td>\n",
       "      <td>0</td>\n",
       "      <td>0</td>\n",
       "      <td>0</td>\n",
       "      <td>0</td>\n",
       "      <td>0</td>\n",
       "      <td>0</td>\n",
       "      <td>0</td>\n",
       "      <td>0</td>\n",
       "      <td>1</td>\n",
       "      <td>0</td>\n",
       "    </tr>\n",
       "    <tr>\n",
       "      <th>...</th>\n",
       "      <td>...</td>\n",
       "      <td>...</td>\n",
       "      <td>...</td>\n",
       "      <td>...</td>\n",
       "      <td>...</td>\n",
       "      <td>...</td>\n",
       "      <td>...</td>\n",
       "      <td>...</td>\n",
       "      <td>...</td>\n",
       "      <td>...</td>\n",
       "      <td>...</td>\n",
       "      <td>...</td>\n",
       "      <td>...</td>\n",
       "      <td>...</td>\n",
       "      <td>...</td>\n",
       "      <td>...</td>\n",
       "      <td>...</td>\n",
       "      <td>...</td>\n",
       "      <td>...</td>\n",
       "      <td>...</td>\n",
       "      <td>...</td>\n",
       "    </tr>\n",
       "    <tr>\n",
       "      <th>49939</th>\n",
       "      <td>0.591686</td>\n",
       "      <td>0.591686</td>\n",
       "      <td>0.346426</td>\n",
       "      <td>0.346426</td>\n",
       "      <td>1.108073</td>\n",
       "      <td>1.108073</td>\n",
       "      <td>-0.149515</td>\n",
       "      <td>-0.149515</td>\n",
       "      <td>0</td>\n",
       "      <td>0</td>\n",
       "      <td>...</td>\n",
       "      <td>0</td>\n",
       "      <td>0</td>\n",
       "      <td>0</td>\n",
       "      <td>0</td>\n",
       "      <td>0</td>\n",
       "      <td>0</td>\n",
       "      <td>0</td>\n",
       "      <td>0</td>\n",
       "      <td>0</td>\n",
       "      <td>0</td>\n",
       "    </tr>\n",
       "    <tr>\n",
       "      <th>49940</th>\n",
       "      <td>2.571399</td>\n",
       "      <td>2.571399</td>\n",
       "      <td>-1.045199</td>\n",
       "      <td>-1.045199</td>\n",
       "      <td>1.454714</td>\n",
       "      <td>1.454714</td>\n",
       "      <td>0.691003</td>\n",
       "      <td>0.691003</td>\n",
       "      <td>0</td>\n",
       "      <td>0</td>\n",
       "      <td>...</td>\n",
       "      <td>0</td>\n",
       "      <td>0</td>\n",
       "      <td>0</td>\n",
       "      <td>0</td>\n",
       "      <td>0</td>\n",
       "      <td>0</td>\n",
       "      <td>0</td>\n",
       "      <td>0</td>\n",
       "      <td>0</td>\n",
       "      <td>0</td>\n",
       "    </tr>\n",
       "    <tr>\n",
       "      <th>49941</th>\n",
       "      <td>0.280671</td>\n",
       "      <td>0.280671</td>\n",
       "      <td>0.966129</td>\n",
       "      <td>0.966129</td>\n",
       "      <td>1.766692</td>\n",
       "      <td>1.766692</td>\n",
       "      <td>-0.183135</td>\n",
       "      <td>-0.183135</td>\n",
       "      <td>0</td>\n",
       "      <td>0</td>\n",
       "      <td>...</td>\n",
       "      <td>0</td>\n",
       "      <td>0</td>\n",
       "      <td>0</td>\n",
       "      <td>0</td>\n",
       "      <td>0</td>\n",
       "      <td>0</td>\n",
       "      <td>0</td>\n",
       "      <td>0</td>\n",
       "      <td>0</td>\n",
       "      <td>0</td>\n",
       "    </tr>\n",
       "    <tr>\n",
       "      <th>49945</th>\n",
       "      <td>-1.175327</td>\n",
       "      <td>-1.175327</td>\n",
       "      <td>-0.712940</td>\n",
       "      <td>-0.712940</td>\n",
       "      <td>-0.347823</td>\n",
       "      <td>-0.347823</td>\n",
       "      <td>-0.283998</td>\n",
       "      <td>-0.283998</td>\n",
       "      <td>0</td>\n",
       "      <td>0</td>\n",
       "      <td>...</td>\n",
       "      <td>0</td>\n",
       "      <td>0</td>\n",
       "      <td>0</td>\n",
       "      <td>0</td>\n",
       "      <td>0</td>\n",
       "      <td>0</td>\n",
       "      <td>0</td>\n",
       "      <td>0</td>\n",
       "      <td>0</td>\n",
       "      <td>0</td>\n",
       "    </tr>\n",
       "    <tr>\n",
       "      <th>49946</th>\n",
       "      <td>-0.308461</td>\n",
       "      <td>-0.308461</td>\n",
       "      <td>1.870956</td>\n",
       "      <td>1.870956</td>\n",
       "      <td>-1.422413</td>\n",
       "      <td>-1.422413</td>\n",
       "      <td>1.262554</td>\n",
       "      <td>1.262554</td>\n",
       "      <td>0</td>\n",
       "      <td>0</td>\n",
       "      <td>...</td>\n",
       "      <td>0</td>\n",
       "      <td>0</td>\n",
       "      <td>0</td>\n",
       "      <td>0</td>\n",
       "      <td>0</td>\n",
       "      <td>0</td>\n",
       "      <td>0</td>\n",
       "      <td>0</td>\n",
       "      <td>0</td>\n",
       "      <td>0</td>\n",
       "    </tr>\n",
       "  </tbody>\n",
       "</table>\n",
       "<p>24974 rows × 1118 columns</p>\n",
       "</div>"
      ],
      "text/plain": [
       "       radiant_gold_mean  radiant_gold_sum  dire_gold_mean  dire_gold_sum  \\\n",
       "mid                                                                         \n",
       "0               0.522062          0.522062        0.805408       0.805408   \n",
       "1               0.794057          0.794057        1.748483       1.748483   \n",
       "2               0.498343          0.498343       -1.724013      -1.724013   \n",
       "4              -0.784740         -0.784740       -0.976043      -0.976043   \n",
       "5              -1.557880         -1.557880        0.784545       0.784545   \n",
       "...                  ...               ...             ...            ...   \n",
       "49939           0.591686          0.591686        0.346426       0.346426   \n",
       "49940           2.571399          2.571399       -1.045199      -1.045199   \n",
       "49941           0.280671          0.280671        0.966129       0.966129   \n",
       "49945          -1.175327         -1.175327       -0.712940      -0.712940   \n",
       "49946          -0.308461         -0.308461        1.870956       1.870956   \n",
       "\n",
       "       radiant_lh_mean  radiant_lh_sum  dire_lh_mean  dire_lh_sum  player_0_0  \\\n",
       "mid                                                                             \n",
       "0             0.449453        0.449453      1.934968     1.934968           0   \n",
       "1             0.761431        0.761431      0.321175     0.321175           0   \n",
       "2             1.350722        1.350722     -1.191756    -1.191756           0   \n",
       "4             0.276132        0.276132     -1.124515    -1.124515           0   \n",
       "5            -1.353084       -1.353084      0.354796     0.354796           0   \n",
       "...                ...             ...           ...          ...         ...   \n",
       "49939         1.108073        1.108073     -0.149515    -0.149515           0   \n",
       "49940         1.454714        1.454714      0.691003     0.691003           0   \n",
       "49941         1.766692        1.766692     -0.183135    -0.183135           0   \n",
       "49945        -0.347823       -0.347823     -0.283998    -0.283998           0   \n",
       "49946        -1.422413       -1.422413      1.262554     1.262554           0   \n",
       "\n",
       "       player_0_1  ...  player_9_101  player_9_102  player_9_103  \\\n",
       "mid                ...                                             \n",
       "0               0  ...             0             0             0   \n",
       "1               0  ...             0             0             0   \n",
       "2               0  ...             0             0             0   \n",
       "4               0  ...             0             0             0   \n",
       "5               0  ...             0             0             0   \n",
       "...           ...  ...           ...           ...           ...   \n",
       "49939           0  ...             0             0             0   \n",
       "49940           0  ...             0             0             0   \n",
       "49941           0  ...             0             0             0   \n",
       "49945           0  ...             0             0             0   \n",
       "49946           0  ...             0             0             0   \n",
       "\n",
       "       player_9_104  player_9_105  player_9_106  player_9_107  player_9_108  \\\n",
       "mid                                                                           \n",
       "0                 0             0             0             0             0   \n",
       "1                 0             0             0             0             0   \n",
       "2                 1             0             0             0             0   \n",
       "4                 0             0             0             0             0   \n",
       "5                 0             0             0             0             0   \n",
       "...             ...           ...           ...           ...           ...   \n",
       "49939             0             0             0             0             0   \n",
       "49940             0             0             0             0             0   \n",
       "49941             0             0             0             0             0   \n",
       "49945             0             0             0             0             0   \n",
       "49946             0             0             0             0             0   \n",
       "\n",
       "       player_9_109  player_9_110  \n",
       "mid                                \n",
       "0                 0             0  \n",
       "1                 0             0  \n",
       "2                 0             0  \n",
       "4                 0             0  \n",
       "5                 1             0  \n",
       "...             ...           ...  \n",
       "49939             0             0  \n",
       "49940             0             0  \n",
       "49941             0             0  \n",
       "49945             0             0  \n",
       "49946             0             0  \n",
       "\n",
       "[24974 rows x 1118 columns]"
      ]
     },
     "execution_count": 184,
     "metadata": {},
     "output_type": "execute_result"
    }
   ],
   "source": [
    "X_with_heroes = X_scaled.join(df_heroes_got_dum, on='mid')\n",
    "X_with_heroes"
   ]
  },
  {
   "cell_type": "code",
   "execution_count": 186,
   "metadata": {},
   "outputs": [],
   "source": [
    " X_train, X_test, y_train, y_test = train_test_split(X_with_heroes, y, test_size=0.2, random_state=42)"
   ]
  },
  {
   "cell_type": "code",
   "execution_count": 258,
   "metadata": {},
   "outputs": [
    {
     "name": "stderr",
     "output_type": "stream",
     "text": [
      "/Users/gcsquar/opt/anaconda3/lib/python3.8/site-packages/sklearn/linear_model/_sag.py:329: ConvergenceWarning: The max_iter was reached which means the coef_ did not converge\n",
      "  warnings.warn(\"The max_iter was reached which means \"\n"
     ]
    },
    {
     "data": {
      "text/plain": [
       "(0.7055695283815258, {'C': 0.010033333333333332, 'l1_ratio': 0.0})"
      ]
     },
     "execution_count": 258,
     "metadata": {},
     "output_type": "execute_result"
    }
   ],
   "source": [
    "\n",
    "parametres = {\n",
    "    'C': np.linspace(0.0001, 0.0150, 10),\n",
    "    'l1_ratio': np.linspace(0.0, 1.0, 5)\n",
    "}\n",
    "gs_lr_heroes = GridSearchCV(LogisticRegression(penalty='elasticnet', solver='saga'), parametres, cv=KFold(n_splits=5), scoring='roc_auc', n_jobs=-1, refit=True)\n",
    "gs_lr_heroes.fit(X_train, y_train)\n",
    "\n",
    "gs_lr_heroes.best_score_, gs_lr_heroes.best_params_"
   ]
  },
  {
   "cell_type": "code",
   "execution_count": 259,
   "metadata": {},
   "outputs": [
    {
     "name": "stdout",
     "output_type": "stream",
     "text": [
      "LR: 0.65005005005005\n",
      "LR + scale: 0.6508508508508508\n",
      "LR + 2 params: 0.6508508508508508\n",
      "LR + heroes: 0.6524524524524524\n"
     ]
    }
   ],
   "source": [
    "print('LR:', gs_lr.best_estimator_.score(X_test, y_test))\n",
    "print('LR + scale:', gs_lr_scaled.best_estimator_.score(X_test, y_test))\n",
    "print('LR + 2 params:', gs_lr_comb.best_estimator_.score(X_test, y_test))\n",
    "print('LR + heroes:', gs_lr_heroes.best_estimator_.score(X_test, y_test))"
   ]
  },
  {
   "cell_type": "markdown",
   "metadata": {},
   "source": [
    "Получается, чуть-чуть улучшили"
   ]
  },
  {
   "cell_type": "code",
   "execution_count": 260,
   "metadata": {},
   "outputs": [
    {
     "name": "stderr",
     "output_type": "stream",
     "text": [
      "/Users/gcsquar/opt/anaconda3/lib/python3.8/site-packages/sklearn/svm/_base.py:246: ConvergenceWarning: Solver terminated early (max_iter=1000).  Consider pre-processing your data with StandardScaler or MinMaxScaler.\n",
      "  warnings.warn('Solver terminated early (max_iter=%i).'\n"
     ]
    },
    {
     "data": {
      "text/plain": [
       "(0.5828264081805233, {'C': 0.0023})"
      ]
     },
     "execution_count": 260,
     "metadata": {},
     "output_type": "execute_result"
    }
   ],
   "source": [
    "\n",
    "parametres = {\n",
    "    'C': np.linspace(0.0001, 0.010, 10),\n",
    "}\n",
    "\n",
    "gs_svc_heroes = GridSearchCV(SVC(kernel='linear', max_iter=1000), parametres, cv=KFold(n_splits=5), scoring='roc_auc', n_jobs=-1, refit=True)\n",
    "gs_svc_heroes.fit(X_train, y_train)\n",
    "\n",
    "gs_svc_heroes.best_score_, gs_svc_heroes.best_params_"
   ]
  },
  {
   "cell_type": "code",
   "execution_count": 261,
   "metadata": {},
   "outputs": [
    {
     "name": "stdout",
     "output_type": "stream",
     "text": [
      "SVC: 0.3893893893893894\n",
      "SVC + scale: 0.5825825825825826\n",
      "SVC + 2 params: 0.5825825825825826\n",
      "SVC + heroes: 0.5777777777777777\n"
     ]
    }
   ],
   "source": [
    "print('SVC:', gs_svs.best_estimator_.score(X_test, y_test))\n",
    "print('SVC + scale:', gs_svc_scaled.best_estimator_.score(X_test, y_test))\n",
    "print('SVC + 2 params:', gs_svc_scaled.best_estimator_.score(X_test, y_test))\n",
    "print('SVC + heroes:', gs_svc_heroes.best_estimator_.score(X_test, y_test))"
   ]
  },
  {
   "cell_type": "markdown",
   "metadata": {},
   "source": [
    "Не очень понимаю, почему он все еще считает, что данные не отмасштабированы, а еще качество немного упало("
   ]
  },
  {
   "cell_type": "code",
   "execution_count": 262,
   "metadata": {},
   "outputs": [
    {
     "data": {
      "text/plain": [
       "(0.692872423749874, {'alpha': 0.002575})"
      ]
     },
     "execution_count": 262,
     "metadata": {},
     "output_type": "execute_result"
    }
   ],
   "source": [
    "\n",
    "parametres = {\n",
    "    'alpha': np.linspace(0.0001, 0.010, 5)    \n",
    "}\n",
    "\n",
    "gs_mlpc_heroes = GridSearchCV(MLPClassifier(activation='tanh', random_state=42), parametres, cv=KFold(n_splits=5), scoring='roc_auc', n_jobs=-1, refit=True)\n",
    "gs_mlpc_heroes.fit(X_train, y_train)\n",
    "\n",
    "gs_mlpc_heroes.best_score_, gs_mlpc_heroes.best_params_"
   ]
  },
  {
   "cell_type": "code",
   "execution_count": 263,
   "metadata": {},
   "outputs": [
    {
     "name": "stdout",
     "output_type": "stream",
     "text": [
      "MLP-C: 0.5245245245245245\n",
      "MLP-C + scale: 0.6466466466466466\n",
      "MLP-C + 2 params: 0.6466466466466466\n",
      "MLP-C + heroes: 0.6348348348348348\n"
     ]
    }
   ],
   "source": [
    "print('MLP-C:', gs_mlpc.best_estimator_.score(X_test, y_test))\n",
    "print('MLP-C + scale:', gs_mlpc_scaled.best_estimator_.score(X_test, y_test))\n",
    "print('MLP-C + 2 params:', gs_mlpc_scaled.best_estimator_.score(X_test, y_test))\n",
    "print('MLP-C + heroes:', gs_mlpc_heroes.best_estimator_.score(X_test, y_test))"
   ]
  },
  {
   "cell_type": "markdown",
   "metadata": {},
   "source": [
    "Аналогично с SVC :("
   ]
  },
  {
   "cell_type": "markdown",
   "metadata": {},
   "source": [
    "### Смешивание моделей (blending)\n",
    "\n",
    "Часто на практике оказывается возможным увеличить качество предсказания путем смешивания разных моделей. Давайте посмотрим, действительно ли такой подход дает прирост в качестве.\n",
    "\n",
    "Выберите из построенных моделей двух предыдущих пунктов две, которые дали наибольшее начество на кросс-валидации (обозначим их $clf_1$ и $clf_2$). Далее постройте новый классификатор, ответ которого на некотором объекте $x$ будет выглядеть следующим образом:\n",
    "\n",
    "$$result(x) = clf_1(x) * \\alpha + clf_2(x) * (1 - \\alpha)$$\n",
    "\n",
    "где $\\alpha$ — гиперпараметр нового классификатора."
   ]
  },
  {
   "cell_type": "markdown",
   "metadata": {},
   "source": [
    "**Задание 10** (2 балла)\n",
    "\n",
    "При реализации своих моделей хорошей практикой является создание sklearn-совместимых классов. Во-первых, такая реализация будет иметь стандартный интерфейс и позволит другим людям безболезненно обучать реализованные вами модели. Во-вторых, появляется возможность использовать любой функционал пакета sklearn, принимающий на вход модель.\n",
    "\n",
    "Создайте классификатор, который инициализируется двумя произвольными классификаторами и параметром $\\alpha$. Во время обучения такой классификатор должен обучать обе базовые модели, а на этапе предсказания замешивать предсказания базовых моделей по формуле, указанной выше. \n",
    "\n",
    "Для создания пользовательского классификатора необходимо отнаследоваться от базовых классов *[BaseEstimator](http://scikit-learn.org/stable/modules/generated/sklearn.base.BaseEstimator.html), [ClassifierMixin](http://scikit-learn.org/stable/modules/generated/sklearn.base.ClassifierMixin.html)* и реализовать методы *\\_\\_init\\_\\_, fit, predict и predict_proba*. Пример sklearn-совместимого классификатора с комментариями можно найти [здесь](http://scikit-learn.org/stable/developers/contributing.html#rolling-your-own-estimator) "
   ]
  },
  {
   "cell_type": "markdown",
   "metadata": {},
   "source": [
    "Вообще, мне больше подошла вот эта [ссылка](https://scikit-learn.org/stable/developers/develop.html) и вот [эта](https://sklearn-template.readthedocs.io/en/latest/user_guide.html)"
   ]
  },
  {
   "cell_type": "code",
   "execution_count": 185,
   "metadata": {},
   "outputs": [],
   "source": [
    "from sklearn.base import BaseEstimator, ClassifierMixin\n",
    "\n",
    "class OwnClassifier(BaseEstimator, ClassifierMixin):\n",
    "    def __init__(self, classifier_1, classifier_2, alpha=0):\n",
    "        self.classifier_1 = classifier_1\n",
    "        self.classifier_2 = classifier_2\n",
    "        self.alpha = alpha\n",
    "    \n",
    "    def fit(self, X, y):\n",
    "        self.classifier_1.fit(X, y)\n",
    "        self.classifier_2.fit(X, y)\n",
    "    \n",
    "    def predict(self, X):\n",
    "        return self.alpha * self.classifier_1.predict(X) + (1 - self.alpha) * self.classifier_2.predict(X)\n",
    "    \n",
    "    def predict_proba():\n",
    "        return self.alpha * self.classifier_1.predict_proba(X) + (1 - self.alpha) * self.classifier_2.predict_proba(X)"
   ]
  },
  {
   "cell_type": "markdown",
   "metadata": {},
   "source": [
    "**Задание 11** (1 балл)\n",
    "\n",
    "Подберите по сетке от 0 до 1 значение $\\alpha$ для этого классификатора. Если класс реализован правильно, то вы cможете использовать *GridSearchCV*, как в случае с обычными классификаторами.\n",
    "\n",
    "Изобразите на графике среднее качество по фолдам и доверительный интервал в зависимости от $\\alpha$.\n",
    "\n",
    "Дал ли этот подход прирост к качеству по сравнению с моделями, обученными по-отдельности? Поясните, почему даже простой блендинг моделей может влять на итоговое качество?"
   ]
  },
  {
   "cell_type": "code",
   "execution_count": null,
   "metadata": {
    "collapsed": true,
    "jupyter": {
     "outputs_hidden": true
    }
   },
   "outputs": [],
   "source": []
  },
  {
   "cell_type": "markdown",
   "metadata": {},
   "source": [
    "### Сравнение построенных моделей\n",
    "\n",
    "![](http://cdn.shopify.com/s/files/1/0870/1066/files/compare_e8b89647-3cb6-4871-a976-2e36e5987773.png?1750043340268621065)\n",
    "\n",
    "После того как было построено много моделей, правильным продолжением является сравнение их между собой.  Воспользуйтесь диаграммой размаха (\"ящик с усами\") для сравнения алгоритмов между собой. Эту диаграмму можно построить при помощи [boxplot](https://matplotlib.org/3.1.0/api/_as_gen/matplotlib.pyplot.boxplot.html) из matplotlib либо через [обертку](https://pandas.pydata.org/pandas-docs/stable/reference/api/pandas.DataFrame.boxplot.html) над ней из pandas."
   ]
  },
  {
   "cell_type": "markdown",
   "metadata": {},
   "source": [
    "**Задание 12** (2 балла) \n",
    "\n",
    "Для каждого типа классификатора, а так же смешанной модели, выберите тот, которых давал наилучшее качество на кросс-валидации и постройте диаграмму размаха. Все классификаторы должны быть изображены на одном графике.\n",
    " \n",
    "Сделайте общие итоговые выводы о классификаторах с точки зрения их работы с признаками и сложности самой модели (какие гиперпараметры есть у модели, сильно ли изменение значения гиперпараметра влияет на качество модели)."
   ]
  },
  {
   "cell_type": "code",
   "execution_count": null,
   "metadata": {},
   "outputs": [],
   "source": []
  },
  {
   "cell_type": "markdown",
   "metadata": {},
   "source": [
    "Не забудьте продолжить участвовать в соревнование, воспользовавшись всеми полученными наработками."
   ]
  }
 ],
 "metadata": {
  "kernelspec": {
   "display_name": "Python 3",
   "language": "python",
   "name": "python3"
  },
  "language_info": {
   "codemirror_mode": {
    "name": "ipython",
    "version": 3
   },
   "file_extension": ".py",
   "mimetype": "text/x-python",
   "name": "python",
   "nbconvert_exporter": "python",
   "pygments_lexer": "ipython3",
   "version": "3.8.5"
  }
 },
 "nbformat": 4,
 "nbformat_minor": 4
}
